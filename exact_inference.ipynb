{
 "cells": [
  {
   "cell_type": "code",
   "execution_count": 1,
   "metadata": {},
   "outputs": [],
   "source": [
    "using Gen"
   ]
  },
  {
   "cell_type": "markdown",
   "metadata": {},
   "source": [
    "Let's dig into what exact inference looks like for multi-object tracking. \n",
    "\n",
    "Let's imagine a very simple model -- between 1-4 objects spawn on a 5x5 grid. What's the initial probability of a starting condition?\n",
    "\n",
    "The probability of $N$ objects being sampled is $\\frac{1}{4}$. For any given object, the probability it appears in any specific location on the grid is proportional to the scene size. Since we sample both $x$ and $y$ coordinates independently that probability is $\\frac{1}{25}$. \n",
    "\n",
    "Now, for a scene with 4 objects, the joint probability of sampling 4 objects at 4 specific locations is: $(\\frac{1}{4})(\\frac{1}{25})^4$, or $6e-7$. A pretty low likelihood for any given configuration. \n",
    "\n",
    "We can illustrate that below with Gen:"
   ]
  },
  {
   "cell_type": "code",
   "execution_count": 124,
   "metadata": {},
   "outputs": [
    {
     "data": {
      "text/plain": [
       "DynamicDSLFunction{Any}(Dict{Symbol, Any}(), Dict{Symbol, Any}(), Type[Int64, Int64], false, Union{Nothing, Some{Any}}[nothing, nothing], var\"##init_state#350\", Bool[0, 0], false)"
      ]
     },
     "execution_count": 124,
     "metadata": {},
     "output_type": "execute_result"
    }
   ],
   "source": [
    "@gen function sample_position(scene_size::Int64)\n",
    "    \"\"\"\n",
    "    Return a \n",
    "    \"\"\"\n",
    "    x = {:x} ~ uniform_discrete(1, scene_size)\n",
    "    y = {:y} ~ uniform_discrete(1, scene_size)\n",
    "    return x, y\n",
    "end\n",
    "\n",
    "@gen function init_state(max_objects::Int64, scene_size::Int64)\n",
    "    \"\"\"\n",
    "    Generative model for initial positions of an unknown number of objects in a scene\n",
    "    \"\"\"\n",
    "    n = {:n} ~ uniform_discrete(1, max_objects)\n",
    "    get_positions = Map(sample_position)\n",
    "    sizes = [scene_size for i in 1:n]\n",
    "    positions ~ get_positions(sizes)\n",
    "    return positions\n",
    "end"
   ]
  },
  {
   "cell_type": "code",
   "execution_count": 141,
   "metadata": {},
   "outputs": [
    {
     "name": "stdout",
     "output_type": "stream",
     "text": [
      "3\n",
      "0.0004000000000000001\n"
     ]
    }
   ],
   "source": [
    "tr = simulate(init_state, (4, 5))\n",
    "choices = get_choices(tr)\n",
    "println(choices[:positions => 1 => :y])\n",
    "println(exp(get_score(tr)))"
   ]
  },
  {
   "cell_type": "code",
   "execution_count": 166,
   "metadata": {},
   "outputs": [
    {
     "name": "stdout",
     "output_type": "stream",
     "text": [
      "0.0\n",
      "0.25\n"
     ]
    }
   ],
   "source": [
    "tr, w = generate(init_state, (4, 5), choicemap((:positions => 4 => :y, 10)))\n",
    "println(w)\n",
    "\n",
    "tr, w = generate(init_state, (4, 5), choicemap((:n, 4)))\n",
    "println(exp(w))"
   ]
  },
  {
   "cell_type": "markdown",
   "metadata": {},
   "source": [
    "Tracking fireflies? What's next?\n",
    "\n",
    "Rewrite exact inference in a latent-observation model? Re-do SIR? Hm..."
   ]
  },
  {
   "cell_type": "code",
   "execution_count": 173,
   "metadata": {},
   "outputs": [
    {
     "name": "stdout",
     "output_type": "stream",
     "text": [
      "5\n"
     ]
    }
   ],
   "source": [
    "firing = poisson(4)\n",
    "println(firing)"
   ]
  },
  {
   "cell_type": "code",
   "execution_count": 180,
   "metadata": {},
   "outputs": [
    {
     "name": "stdout",
     "output_type": "stream",
     "text": [
      "Animation saved as fireflies.gif\n"
     ]
    },
    {
     "name": "stderr",
     "output_type": "stream",
     "text": [
      "\u001b[36m\u001b[1m[ \u001b[22m\u001b[39m\u001b[36m\u001b[1mInfo: \u001b[22m\u001b[39mSaved animation to /Users/yonifriedman/Research/ProbComp/Fireflies/fireflies.gif\n"
     ]
    }
   ],
   "source": [
    "using Gen\n",
    "using Plots\n",
    "using Distributions\n",
    "\n",
    "# Define the firefly model\n",
    "@gen function firefly_model(T::Int, N::Int)\n",
    "    num_fireflies = @trace(uniform_discrete(3, 7), :num_fireflies)\n",
    "    \n",
    "    positions = [(@trace(uniform_discrete(1, N), (:initial_x, i)), \n",
    "                  @trace(uniform_discrete(1, N), (:initial_y, i))) \n",
    "                 for i in 1:num_fireflies]\n",
    "    frequencies = [@trace(uniform(0.5, 2.0), (:frequency, i)) for i in 1:num_fireflies]\n",
    "    \n",
    "    trajectories = []\n",
    "    glow_states = []\n",
    "    \n",
    "    for i in 1:num_fireflies\n",
    "        trajectory = [positions[i]]\n",
    "        glow_state = zeros(T)\n",
    "        \n",
    "        for t in 2:T\n",
    "            last_x, last_y = trajectory[end]\n",
    "            new_x = mod1(last_x + @trace(uniform_discrete(-1, 1), (:step_x, i, t)), N)\n",
    "            new_y = mod1(last_y + @trace(uniform_discrete(-1, 1), (:step_y, i, t)), N)\n",
    "            push!(trajectory, (new_x, new_y))\n",
    "            \n",
    "            # Update glow state with smooth ramp up and down\n",
    "            cycle_position = mod(t, round(Int, 1 / frequencies[i]))\n",
    "            glow_window = round(Int, 1 / frequencies[i] / 4)\n",
    "            if cycle_position < glow_window\n",
    "                glow_state[t] = sin(π * cycle_position / glow_window)\n",
    "            elseif cycle_position < 2 * glow_window\n",
    "                glow_state[t] = sin(π * (2 * glow_window - cycle_position) / glow_window)\n",
    "            end\n",
    "        end\n",
    "        \n",
    "        push!(trajectories, trajectory)\n",
    "        push!(glow_states, glow_state)\n",
    "    end\n",
    "    \n",
    "    return (trajectories, glow_states)\n",
    "end\n",
    "\n",
    "# Run the model\n",
    "T = 200  # Total time steps\n",
    "N = 20   # Grid size (NxN)\n",
    "tr = Gen.simulate(firefly_model, (T, N))\n",
    "(trajectories, glow_states) = get_retval(tr)\n",
    "\n",
    "\n",
    "# Create animation\n",
    "anim = @animate for t in 1:T\n",
    "    p = plot(legend=false, size=(600, 600), xlabel=\"X Position\", ylabel=\"Y Position\", \n",
    "             title=\"Firefly Simulation (t=$t)\", xlim=(0, N), ylim=(0, N),\n",
    "             aspect_ratio=:equal, xticks=0:N, yticks=0:N, grid=true)\n",
    "    \n",
    "    for (i, (trajectory, glow_state)) in enumerate(zip(trajectories, glow_states))\n",
    "        x, y = trajectory[t]\n",
    "        glow = glow_state[t]\n",
    "        \n",
    "        # Plot firefly with glow effect\n",
    "        scatter!(p, [x], [y], markersize=6 + 4 * glow, color=:yellow, \n",
    "                 alpha=0.3 + 0.7 * glow, markerstrokewidth=0)\n",
    "        \n",
    "        # Plot tail\n",
    "        tail_length = 10\n",
    "        start = max(1, t - tail_length)\n",
    "        x_tail = [traj[1] for traj in trajectory[start:t]]\n",
    "        y_tail = [traj[2] for traj in trajectory[start:t]]\n",
    "        plot!(p, x_tail, y_tail, linewidth=1, alpha=0.5, color=:gray)\n",
    "    end\n",
    "end\n",
    "\n",
    "# Save the animation as a GIF\n",
    "gif(anim, \"fireflies.gif\", fps = 15)\n",
    "println(\"Animation saved as fireflies.gif\")"
   ]
  },
  {
   "cell_type": "code",
   "execution_count": null,
   "metadata": {},
   "outputs": [],
   "source": []
  }
 ],
 "metadata": {
  "kernelspec": {
   "display_name": "Julia 1.8.5",
   "language": "julia",
   "name": "julia-1.8"
  },
  "language_info": {
   "file_extension": ".jl",
   "mimetype": "application/julia",
   "name": "julia",
   "version": "1.8.5"
  }
 },
 "nbformat": 4,
 "nbformat_minor": 2
}
