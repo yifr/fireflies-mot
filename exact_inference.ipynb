{
 "cells": [
  {
   "cell_type": "code",
   "execution_count": 1,
   "metadata": {},
   "outputs": [],
   "source": [
    "using Gen"
   ]
  },
  {
   "cell_type": "markdown",
   "metadata": {},
   "source": [
    "Let's dig into what exact inference looks like for multi-object tracking. \n",
    "\n",
    "Let's imagine a very simple model -- between 1-4 objects spawn on a 5x5 grid. What's the initial probability of a starting condition?\n",
    "\n",
    "The probability of $N$ objects being sampled is $\\frac{1}{4}$. For any given object, the probability it appears in any specific location on the grid is proportional to the scene size. Since we sample both $x$ and $y$ coordinates independently that probability is $\\frac{1}{25}$. \n",
    "\n",
    "Now, for a scene with 4 objects, the joint probability of sampling 4 objects at 4 specific locations is: $(\\frac{1}{4})(\\frac{1}{25})^4$, or $6e-7$. A pretty low likelihood for any given configuration. \n",
    "\n",
    "We can illustrate that below with Gen:"
   ]
  },
  {
   "cell_type": "code",
   "execution_count": 124,
   "metadata": {},
   "outputs": [
    {
     "data": {
      "text/plain": [
       "DynamicDSLFunction{Any}(Dict{Symbol, Any}(), Dict{Symbol, Any}(), Type[Int64, Int64], false, Union{Nothing, Some{Any}}[nothing, nothing], var\"##init_state#350\", Bool[0, 0], false)"
      ]
     },
     "execution_count": 124,
     "metadata": {},
     "output_type": "execute_result"
    }
   ],
   "source": [
    "@gen function sample_position(scene_size::Int64)\n",
    "    \"\"\"\n",
    "    Return a \n",
    "    \"\"\"\n",
    "    x = {:x} ~ uniform_discrete(1, scene_size)\n",
    "    y = {:y} ~ uniform_discrete(1, scene_size)\n",
    "    return x, y\n",
    "end\n",
    "\n",
    "@gen function init_state(max_objects::Int64, scene_size::Int64)\n",
    "    \"\"\"\n",
    "    Generative model for initial positions of an unknown number of objects in a scene\n",
    "    \"\"\"\n",
    "    n = {:n} ~ uniform_discrete(1, max_objects)\n",
    "    get_positions = Map(sample_position)\n",
    "    sizes = [scene_size for i in 1:n]\n",
    "    positions ~ get_positions(sizes)\n",
    "    return positions\n",
    "end"
   ]
  },
  {
   "cell_type": "code",
   "execution_count": 141,
   "metadata": {},
   "outputs": [
    {
     "name": "stdout",
     "output_type": "stream",
     "text": [
      "3\n",
      "0.0004000000000000001\n"
     ]
    }
   ],
   "source": [
    "tr = simulate(init_state, (4, 5))\n",
    "choices = get_choices(tr)\n",
    "println(choices[:positions => 1 => :y])\n",
    "println(exp(get_score(tr)))"
   ]
  },
  {
   "cell_type": "code",
   "execution_count": 166,
   "metadata": {},
   "outputs": [
    {
     "name": "stdout",
     "output_type": "stream",
     "text": [
      "0.0\n",
      "0.25\n"
     ]
    }
   ],
   "source": [
    "tr, w = generate(init_state, (4, 5), choicemap((:positions => 4 => :y, 10)))\n",
    "println(w)\n",
    "\n",
    "tr, w = generate(init_state, (4, 5), choicemap((:n, 4)))\n",
    "println(exp(w))"
   ]
  },
  {
   "cell_type": "code",
   "execution_count": null,
   "metadata": {},
   "outputs": [],
   "source": []
  }
 ],
 "metadata": {
  "kernelspec": {
   "display_name": "Julia 1.8.5",
   "language": "julia",
   "name": "julia-1.8"
  },
  "language_info": {
   "file_extension": ".jl",
   "mimetype": "application/julia",
   "name": "julia",
   "version": "1.8.5"
  }
 },
 "nbformat": 4,
 "nbformat_minor": 2
}
