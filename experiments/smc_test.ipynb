{
 "cells": [
  {
   "cell_type": "code",
   "execution_count": 79,
   "metadata": {},
   "outputs": [],
   "source": [
    "import jax\n",
    "import jax.numpy as jnp\n",
    "import genjax\n",
    "from genjax import ChoiceMapBuilder as C\n",
    "import proposals\n",
    "\n",
    "import sys\n",
    "sys.path.append(\"../src/\")\n",
    "from maskcombinator_model import *\n",
    "\n",
    "import matplotlib.pyplot as plt\n",
    "\n",
    "genjax.pretty()"
   ]
  },
  {
   "cell_type": "code",
   "execution_count": 7,
   "metadata": {},
   "outputs": [],
   "source": [
    "class JaxKey():\n",
    "    def __init__(self, seed):\n",
    "        self.seed = seed\n",
    "        self.key = jax.random.PRNGKey(seed)\n",
    "\n",
    "    def __call__(self, n_keys=1):\n",
    "        if n_keys == 1:\n",
    "            _, subkey = jax.random.split(self.key)\n",
    "            self.key = subkey\n",
    "            return self.key\n",
    "        else:\n",
    "            keys = jax.random.split(self.key, n_keys)\n",
    "            self.key = keys[-1]\n",
    "            return keys\n",
    "        \n",
    "seed = 123\n",
    "keygen = JaxKey(seed)"
   ]
  },
  {
   "cell_type": "markdown",
   "metadata": {},
   "source": [
    "Generative model functions:\n",
    "\n",
    "assess -- log probability of an observation under a trace (requires complete choicemap)\n",
    "\n",
    "importance -- same as assess but without full choicemap (importance sample with proposal to get full choicemap, \n",
    "                                                          get model logprobs using assess)\n",
    "                                                          \n",
    "update -- convenience to save computation when trace isn't changing"
   ]
  },
  {
   "cell_type": "markdown",
   "metadata": {},
   "source": [
    "What I want are the following:\n",
    "\n",
    "1. initialization proposal, initialization prior\n",
    "2. dynamics proposal, dynamics prior\n",
    "3. observation / likelihood function\n",
    "\n",
    "Then, at each step (after initialization), I want to:\n",
    "\n",
    "1. compute $Q(x_t; x_{t-1}, y_t)$ by calling `.importance` on the dynamics proposal\n",
    "2. compute $P(x_t | x_{t-1})$ by using the choices from our proposal and calling `.assess` on the prior (model dynamics)\n",
    "3. compute $P(y_t | x_t)$ using observation model\n",
    "4. Calculate weights as: $\\frac{P(y_t | x_t) P(x_t | x_{t-1})}{Q(x_t; x_{t-1}, {y_t})}$\n",
    "5. Resample particles by drawing from `Categorical(weights)` M times\n",
    "\n",
    "\n",
    "Let's try to take apart our existing model and re-factor it to make it easier to use those components"
   ]
  },
  {
   "cell_type": "markdown",
   "metadata": {},
   "source": [
    "### 1. Initialization\n",
    "\n",
    "Our initialization model will sample N and initalize fireflies using a mask over the max\n",
    "\n",
    "Our proposal can take the first observation, and initalize in the vicinity of any observed blinks"
   ]
  },
  {
   "cell_type": "code",
   "execution_count": null,
   "metadata": {},
   "outputs": [],
   "source": [
    "@gen\n",
    "def init_firefly_at_random():\n",
    "    init_x = genjax.uniform(1., SCENE_SIZE.astype(jnp.float32)) @ \"x\"\n",
    "    init_y = genjax.uniform(1., SCENE_SIZE.astype(jnp.float32)) @ \"y\"\n",
    "\n",
    "    vx = genjax.truncated_normal(0., .5, MIN_VELOCITY, MAX_VELOCITY) @ \"vx\"\n",
    "    vy = genjax.truncated_normal(0., .5, MIN_VELOCITY, MAX_VELOCITY) @ \"vy\"\n",
    "\n",
    "    blink_rate = genjax.normal(0.1, 0.01) @ \"blink_rate\"\n",
    "    blinking = False\n",
    "    #state_duration = jax.lax.select(True, 0, 0)\n",
    "\n",
    "    firefly = {\n",
    "        \"x\": init_x,\n",
    "        \"y\": init_y,\n",
    "        \"vx\": vx,\n",
    "        \"vy\": vy,\n",
    "        \"blink_rate\": blink_rate,\n",
    "        \"blinking\": blinking,\n",
    "        #\"state_duration\": state_duration\n",
    "    }\n",
    "\n",
    "    return firefly\n",
    "\n",
    "@gen\n",
    "def init_firefly_at_loc(obs_x, obs_y):\n",
    "    \"\"\"\n",
    "    Takes in observed locations and initializes \n",
    "    fireflies if the locations are in bounds\n",
    "    \"\"\"\n",
    "    _scene_size = SCENE_SIZE.astype(jnp.float32)\n",
    "    vx = genjax.truncated_normal(0., .5, MIN_VELOCITY, MAX_VELOCITY) @ \"vx\"\n",
    "    vy = genjax.truncated_normal(0., .5, MIN_VELOCITY, MAX_VELOCITY) @ \"vy\"\n",
    "\n",
    "    # If obs_x / obs_y are < 0, sample them randomly\n",
    "    is_valid_x = obs_x > 0.\n",
    "    is_valid_y = obs_y > 0.\n",
    "    x = genjax.normal.or_else(genjax.uniform)(is_valid_x, (obs_x - vx, 0.1), (0., _scene_size)) @ \"x\"\n",
    "    y = genjax.normal.or_else(genjax.uniform)(is_valid_y, (obs_y - vy, 0.1), (0., _scene_size)) @ \"y\"\n",
    "    \n",
    "    blink_rate = genjax.normal(0.1, 0.01) @ \"blink_rate\"\n",
    "    blinking = False\n",
    "\n",
    "    firefly = {\n",
    "        \"x\": x,\n",
    "        \"y\": y,\n",
    "        \"vx\": vx,\n",
    "        \"vy\": vy,\n",
    "        \"blink_rate\": blink_rate,\n",
    "        \"blinking\": blinking,\n",
    "    }\n",
    "\n",
    "    return firefly\n",
    "\n",
    "@gen \n",
    "def model_init_fireflies(max_fireflies):\n",
    "    n_fireflies = labcat(unicat(max_fireflies), max_fireflies) @ \"n_fireflies\"\n",
    "    masks = jnp.array(max_fireflies <= n_fireflies)\n",
    "    # Will produce traces with the form: trace[\"init\", :, f\"{variable}\"]\n",
    "    init_states = init_firefly_at_random.mask().vmap(in_axes=(0))(masks) @ \"init\"\n",
    "    return init_states\n",
    "\n",
    "\n",
    "@gen \n",
    "def proposal_init_fireflies(max_fireflies, x_obs, y_obs):\n",
    "    \"\"\"\n",
    "    max_fireflies: jnp.array of the form [1, 2, 3, ..., max_fireflies]\n",
    "    x_obs, y_obs: (max_fireflies,) array with observations. Valid observations \n",
    "          are anything inside the scene limits\n",
    "    \"\"\"\n",
    "    # Get number valid observations\n",
    "    num_valid_obs = jnp.sum(jnp.where(x_obs > -1, 1, 0))\n",
    "    firefly_probs = jnp.where(max_fireflies < num_valid_obs, 0., 1/num_valid_obs)\n",
    "    n_fireflies = labcat(unicat(firefly_probs), max_fireflies) @ \"n_fireflies\"\n",
    "    masks = jnp.array(max_fireflies <= n_fireflies)\n",
    "    jax.debug.print(\"m={m}\", m=masks)\n",
    "    # Our single firefly proposal function gets an observed x and y\n",
    "    # and initializes at random if the values are < 0. \n",
    "    init_states = init_firefly_at_loc.mask().vmap(in_axes=(0, 0, 0))(masks, x_obs, y_obs) @ \"init\"\n",
    "    return init_states"
   ]
  },
  {
   "cell_type": "code",
   "execution_count": null,
   "metadata": {},
   "outputs": [],
   "source": [
    "model_importance = jax.jit(multifirefly_model.importance)\n",
    "model_update = jax.jit(multifirefly_model.update)"
   ]
  },
  {
   "cell_type": "code",
   "execution_count": 62,
   "metadata": {},
   "outputs": [],
   "source": [
    "random_x = 12.\n",
    "random_y = 30.\n",
    "obs_x = 10.\n",
    "obs_y = 1.\n",
    "valid_x = obs_x > 0.\n",
    "valid_y = obs_y > 0.\n",
    "init_x_at = jax.lax.cond(valid_x, lambda: obs_x, lambda: random_x)\n",
    "init_y_at = jax.lax.cond(valid_y, lambda: obs_y, lambda: random_y)"
   ]
  },
  {
   "cell_type": "code",
   "execution_count": null,
   "metadata": {},
   "outputs": [],
   "source": []
  }
 ],
 "metadata": {
  "kernelspec": {
   "display_name": "genjax",
   "language": "python",
   "name": "python3"
  },
  "language_info": {
   "codemirror_mode": {
    "name": "ipython",
    "version": 3
   },
   "file_extension": ".py",
   "mimetype": "text/x-python",
   "name": "python",
   "nbconvert_exporter": "python",
   "pygments_lexer": "ipython3",
   "version": "3.12.3"
  }
 },
 "nbformat": 4,
 "nbformat_minor": 2
}
