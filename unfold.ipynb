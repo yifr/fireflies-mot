{
 "cells": [
  {
   "cell_type": "code",
   "execution_count": 1,
   "metadata": {},
   "outputs": [
    {
     "data": {
      "text/plain": [
       "has_argument_grads (generic function with 1 method)"
      ]
     },
     "execution_count": 1,
     "metadata": {},
     "output_type": "execute_result"
    }
   ],
   "source": [
    "using Gen\n",
    "using Plots\n",
    "include(\"./distribution_utils.jl\")"
   ]
  },
  {
   "cell_type": "code",
   "execution_count": 2,
   "metadata": {},
   "outputs": [],
   "source": [
    "struct FireflyState\n",
    "    x::Float64\n",
    "    y::Float64\n",
    "    vx::Float64\n",
    "    vy::Float64\n",
    "    blinking::Int64\n",
    "    blink_rate::Float64\n",
    "end"
   ]
  },
  {
   "cell_type": "markdown",
   "metadata": {},
   "source": []
  },
  {
   "cell_type": "code",
   "execution_count": 131,
   "metadata": {},
   "outputs": [],
   "source": [
    "@gen (static) function init_single_state()\n",
    "    x = {:x} ~ uniform(1, 64)\n",
    "    y = {:y} ~ uniform(1, 64)\n",
    "    vx = {:vx} ~ normal(0, 1)\n",
    "    vy = {:vy} ~ normal(0, 1)\n",
    "    blinking = {:blinking} ~ bernoulli(0.5)\n",
    "    blink_rate = {:blink_rate} ~ uniform(0.05, 0.15)\n",
    "    return FireflyState(x, y, vx, vy, blinking, blink_rate)\n",
    "end\n",
    "\n",
    "@gen (static) function reverse_velocity(v::Float64)\n",
    "    return normal(-v, 0.1)\n",
    "end\n",
    "\n",
    "@gen (static) function maintain_velocity(v::Float64)\n",
    "    return normal(v, 0.05)\n",
    "end\n",
    "\n",
    "update_velocity = Switch(maintain_velocity, reverse_velocity)\n",
    "\n",
    "@gen (static) function update_single_state(t::Int64, prev_state::FireflyState, scene_dim::Int64)\n",
    "    prev_x = prev_state.x\n",
    "    prev_y = prev_state.y\n",
    "    prev_vx = prev_state.vx\n",
    "    prev_vy = prev_state.vy\n",
    "    switch_x = (prev_x + prev_vx < scene_dim - 1 && prev_x + prev_vx > 2) ? 1 : 2\n",
    "    switch_y = (prev_y + prev_vy < scene_dim - 1 && prev_y + prev_vy > 2) ? 1 : 2\n",
    "\n",
    "    vx ~ update_velocity(switch_x, prev_vx)\n",
    "    vy ~ update_velocity(switch_y, prev_vy)\n",
    "    x ~ trunc_norm(prev_x + vx, .1, 1., Float64(scene_dim))\n",
    "    y ~ trunc_norm(prev_y + vy, .1, 1., Float64(scene_dim))\n",
    "\n",
    "    blinking ~ bernoulli(prev_state.blink_rate)\n",
    "    return FireflyState(x, y, vx, vy, blinking, prev_state.blink_rate)\n",
    "end\n",
    "\n",
    "init_all_states = Map(init_single_state)\n",
    "chain_states_single = Unfold(update_single_state)\n",
    "chain_states = Map(chain_states_single)\n",
    "\n",
    "Gen.@load_generated_functions"
   ]
  },
  {
   "cell_type": "code",
   "execution_count": 132,
   "metadata": {},
   "outputs": [],
   "source": [
    "@gen (static) function unfold_model(T::Int, scene_size::Int)\n",
    "    num ~ uniform_discrete(1, 4)\n",
    "    init_states = init_all_states(ones(num))\n",
    "    states ~ chain_states(fill(T, num), init_states, fill(scene_size, num))\n",
    "    return num, states\n",
    "end\n",
    "\n",
    "Gen.@load_generated_functions"
   ]
  },
  {
   "cell_type": "code",
   "execution_count": 133,
   "metadata": {},
   "outputs": [
    {
     "data": {
      "text/plain": [
       "animate_firefly_states (generic function with 1 method)"
      ]
     },
     "execution_count": 133,
     "metadata": {},
     "output_type": "execute_result"
    }
   ],
   "source": [
    "# Animate a plot of the firefly states\n",
    "function animate_firefly_states(trace; fps::Int64 = 10)\n",
    "    steps, scene_size = get_args(trace)\n",
    "    num, _ = get_retval(trace)\n",
    "    choices = get_choices(trace)\n",
    "    num = choices[:num]\n",
    "    \n",
    "    fig = plot(figsize=(500, 500))\n",
    "    anim = Plots.@animate for t=1:steps\n",
    "        empty!(fig)\n",
    "        xlims!(0, scene_size)\n",
    "        ylims!(0, scene_size)\n",
    "\n",
    "        for i=1:num\n",
    "            blinking = choices[:states => i => t => :blinking]\n",
    "            x = choices[:states => i => t => :x]\n",
    "            y = choices[:states => i => t => :y]\n",
    "            markershape = blinking ? :circle : :x\n",
    "            color = blinking ? :yellow : :black\n",
    "            scatter!([x], [y], markershape=markershape, markersize=10, color=color, legend=false, background_color=:black)\n",
    "        end\n",
    "    end\n",
    "\n",
    "    gif(anim, \"firefly.gif\", fps=fps)\n",
    "end"
   ]
  },
  {
   "cell_type": "code",
   "execution_count": 140,
   "metadata": {},
   "outputs": [
    {
     "name": "stdout",
     "output_type": "stream",
     "text": [
      "3\n"
     ]
    },
    {
     "name": "stderr",
     "output_type": "stream",
     "text": [
      "\u001b[36m\u001b[1m[ \u001b[22m\u001b[39m\u001b[36m\u001b[1mInfo: \u001b[22m\u001b[39mSaved animation to /Users/yonifriedman/Research/ProbComp/Fireflies/firefly.gif\n"
     ]
    },
    {
     "data": {
      "text/html": [
       "<img src=\"data:image/gif;base64,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\" />"
      ],
      "text/plain": [
       "Plots.AnimatedGif(\"/Users/yonifriedman/Research/ProbComp/Fireflies/firefly.gif\")"
      ]
     },
     "execution_count": 140,
     "metadata": {},
     "output_type": "execute_result"
    }
   ],
   "source": [
    "trace = simulate(unfold_model, (100, 64,))\n",
    "println(get_choices(trace)[:num])\n",
    "\n",
    "animate_firefly_states(trace, fps=10)\n"
   ]
  },
  {
   "cell_type": "code",
   "execution_count": null,
   "metadata": {},
   "outputs": [],
   "source": []
  }
 ],
 "metadata": {
  "kernelspec": {
   "display_name": "Julia 1.8.5",
   "language": "julia",
   "name": "julia-1.8"
  },
  "language_info": {
   "file_extension": ".jl",
   "mimetype": "application/julia",
   "name": "julia",
   "version": "1.8.5"
  }
 },
 "nbformat": 4,
 "nbformat_minor": 2
}
