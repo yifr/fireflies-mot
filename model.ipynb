{
 "cells": [
  {
   "cell_type": "code",
   "execution_count": 114,
   "metadata": {},
   "outputs": [],
   "source": [
    "import jax\n",
    "import jax.numpy as jnp\n",
    "import genjax\n",
    "from genjax import gen\n",
    "from genjax import ChoiceMapBuilder as C\n",
    "genjax.pretty()\n",
    "from genjax import ExactDensity, Pytree\n",
    "from tensorflow_probability.substrates import jax as tfp\n",
    "import matplotlib.pyplot as plt\n",
    "import seaborn as sns\n",
    "import matplotlib.animation as animation\n",
    "tfd = tfp.distributions\n",
    "\n",
    "    \n",
    "\"\"\" Distribution Utilities \"\"\" \n",
    "\n",
    "unicat = lambda x: jnp.ones(len(x)) / len(x)\n",
    "normalize = lambda x: x / jnp.sum(x)\n",
    "\n",
    "\"\"\" Define Distributions \"\"\"\n",
    "\n",
    "@Pytree.dataclass\n",
    "class LabeledCategorical(ExactDensity):\n",
    "    def sample(self, key, probs, labels, **kwargs):\n",
    "        cat = tfd.Categorical(probs=normalize(probs))\n",
    "        cat_index = cat.sample(seed=key)\n",
    "        return labels[cat_index]\n",
    "\n",
    "    def logpdf(self, v, probs, labels, **kwargs):\n",
    "        w = jnp.log(jnp.sum(normalize(probs) * (labels==v)))\n",
    "        return w\n",
    "\n",
    "@Pytree.dataclass\n",
    "class UniformCategorical(ExactDensity):\n",
    "    def sample(self, key, labels, **kwargs):\n",
    "        cat = tfd.Categorical(probs=jnp.ones(len(labels)) / len(labels))\n",
    "        cat_index = cat.sample(seed=key)\n",
    "        return labels[cat_index]\n",
    "\n",
    "    def logpdf(self, v, labels, **kwargs):\n",
    "        probs = jnp.ones(len(labels)) / len(labels)\n",
    "        logpdf = jnp.log(probs)\n",
    "        w = logpdf[0]\n",
    "        return w\n",
    "    \n",
    "labcat = LabeledCategorical()\n",
    "uniformcat = UniformCategorical()"
   ]
  },
  {
   "cell_type": "code",
   "execution_count": 193,
   "metadata": {},
   "outputs": [],
   "source": [
    "def animate(frames, fps):\n",
    "    fig, ax = plt.subplots()\n",
    "    def update(frame):\n",
    "        ax.clear()\n",
    "        ax.set_title(f\"Frame {frame}\")\n",
    "        ax.imshow(frames[frame])\n",
    "    ani = animation.FuncAnimation(fig, update, frames=len(frames), interval=1000/fps)\n",
    "    return ani\n",
    "\n",
    "# def construct_frames(choices):\n",
    "#     xs = choices[\"dynamics\", ..., \"x\"]\n",
    "#     ys = choices[\"dynamics\", ..., \"y\"]  \n",
    "#     blinks = choices[\"dynamics\", ..., \"blink\"]\n",
    "#     frames = jnp.zeros((100, 64, 64))\n",
    "    \n",
    "\n",
    "#     for i, blink in enumerate(blinks):\n",
    "#         if blink == 1:\n",
    "#             x_obs = int(xs[i])\n",
    "#             y_obs = int(ys[i])\n",
    "#             for x in range(x_obs-2, x_obs+2):\n",
    "#                 for y in range(y_obs-2, y_obs+2):\n",
    "#                     frames = frames.at[i, y, x].set(1)\n",
    "#     return frames"
   ]
  },
  {
   "cell_type": "code",
   "execution_count": 363,
   "metadata": {},
   "outputs": [],
   "source": [
    "@gen\n",
    "def init_firefly(scene_size):\n",
    "    init_x = genjax.uniform(1., float(scene_size.const)) @ \"x\"\n",
    "    init_y = genjax.uniform(1., float(scene_size.const)) @ \"y\"\n",
    "    blink_rate = genjax.uniform(0.1, 0.25) @ \"blink_rate\"\n",
    "    blinking = 0\n",
    "    return (init_x, init_y, blink_rate, blinking) \n",
    "\n",
    "@genjax.scan(n=100)\n",
    "@gen \n",
    "def step_firefly(firefly, carry):\n",
    "    x, y, blink_rate, _ = firefly\n",
    "    new_x = genjax.normal(x, 1.) @ \"x\"\n",
    "    new_y = genjax.normal(y, 1.) @ \"y\"\n",
    "    blink = genjax.flip(blink_rate) @ \"blink\"\n",
    "    carry.append([new_x, new_y, blink])\n",
    "    return (new_x, new_y, blink_rate, blink), carry\n",
    "\n",
    "@gen\n",
    "def single_firefly_model(scene_size):\n",
    "    firefly = init_firefly(scene_size) @ \"init\"\n",
    "    firefly, chain = step_firefly(firefly, []) @ \"dynamics\"\n",
    "    return (firefly, chain)\n",
    "\n",
    "@jax.jit\n",
    "def calculate_glow(coordinate, glow_size, scene_size):\n",
    "    # Create a grid of coordinates\n",
    "    y, x = jnp.mgrid[0:64, 0:64]\n",
    "    \n",
    "    # Calculate distances from the given coordinate\n",
    "    distances = jnp.sqrt((x - coordinate[1])**2 + (y - coordinate[0])**2)\n",
    "    \n",
    "    # Calculate glow values (assuming a Gaussian-like glow)\n",
    "    glow_values = jnp.exp(-(distances**2) / (2 * glow_size**2))\n",
    "    \n",
    "    return glow_values\n",
    "\n",
    "def render_frame(xs, ys, blinks, scene_size, base_glow_size):\n",
    "    # Extract x, y coordinates and blinking values for the current frame\n",
    "    coordinates = jnp.stack([xs, ys], axis=-1)\n",
    "    glow_sizes = base_glow_size * blinks\n",
    "    v_calculate_glow = jax.vmap(calculate_glow, in_axes=(0, 0, None))\n",
    "\n",
    "    # Calculate glows for all fireflies\n",
    "    glow_values = v_calculate_glow(coordinates, glow_sizes, scene_size)\n",
    "    jax.debug.breakpoint()\n",
    "    # Create a grid to accumulate glow values\n",
    "    glow_grid = jnp.zeros((64, 64))\n",
    "\n",
    "    # Function to update glow_grid for each firefly\n",
    "    def accumulate_glow(carry, values):\n",
    "        glow_grid = carry + values\n",
    "        return glow_grid, None\n",
    "\n",
    "    # Use scan to iteratively accumulate glow values\n",
    "    final_glow_grid = jax.lax.scan(accumulate_glow, glow_grid, glow_values)[0]\n",
    "    \n",
    "    return final_glow_grid\n",
    "\n",
    "@gen\n",
    "def observe_fireflies(xs, ys, blinks, scene_size, base_glow_size=3):\n",
    "    # Vectorize the render_frame function over all timesteps\n",
    "    v_render_frame = jax.vmap(render_frame, in_axes=(0, 0, 0, None, None))\n",
    "    rendered = v_render_frame(xs, ys, blinks, scene_size, base_glow_size)\n",
    "    noisy_obs = genjax.normal(rendered, 0.01) @ \"obs\"\n",
    "    return noisy_obs\n",
    "\n",
    "@gen \n",
    "def multifirefly_model(scene_size, max_fireflies):\n",
    "    n_fireflies = labcat(unicat(max_fireflies), max_fireflies) @ \"n_fireflies\"\n",
    "    masks = max_fireflies <= n_fireflies\n",
    "    multifirefly_model = genjax.MaskCombinator(single_firefly_model).vmap(in_axes=(0, None))\n",
    "    fireflies = multifirefly_model(masks, scene_size) @ \"fireflies\"\n",
    "\n",
    "    masks = jnp.where(fireflies.flag, masks, 0)\n",
    "    chain = jnp.array(fireflies.value[1]).squeeze()\n",
    "    xs, ys, blinks = chain[0, :, :], chain[1, :, :], chain[2, :, :] # N, T\n",
    "    xs = xs[masks, :]\n",
    "    ys = ys[masks, :]\n",
    "    blinks = blinks[masks, :]\n",
    "    observations = observe_fireflies(xs, ys, blinks, scene_size.const) @ \"observations\"\n",
    "    return fireflies, observations\n"
   ]
  },
  {
   "cell_type": "code",
   "execution_count": 364,
   "metadata": {},
   "outputs": [
    {
     "name": "stdout",
     "output_type": "stream",
     "text": [
      "Entering jdb:\n",
      "--KeyboardInterrupt--\n",
      "Entering jdb:\n"
     ]
    }
   ],
   "source": [
    "key = jax.random.PRNGKey(0)\n",
    "key, subkey = jax.random.split(key)\n",
    "fireflies = jnp.arange(1, 5)\n",
    "scene_size = genjax.Pytree.const(64)\n",
    "steps = jnp.arange(10)\n",
    "\n",
    "multi_model_jit = jax.jit(multifirefly_model.simulate)\n",
    "tr = multi_model_jit(subkey, (scene_size, fireflies,))\n",
    "\n",
    "key, subkey = jax.random.split(key)\n",
    "tr = multi_model_jit(subkey, (scene_size, fireflies,))"
   ]
  },
  {
   "cell_type": "code",
   "execution_count": 362,
   "metadata": {},
   "outputs": [
    {
     "data": {
      "text/html": [
       "<div id=\"output_0ee7f372227e4679a1c873e4b9cfc79d\"><script> /* penzai.treescope rendering of a Python object (compressed) */ (()=>{ let observer; let lastStep = new Promise((resolve, reject) => { observer = new IntersectionObserver((entries) => { for (const entry of entries) { if (entry.isIntersecting) { resolve(); observer.disconnect(); return; } } }, {rootMargin: \"1000px\"}); }); window.treescope_decompress_enqueue = (encoded, destId) => { const previous = lastStep; const destElt = document.getElementById(destId); lastStep = (async () => { await previous; let blob = new Blob([ Uint8Array.from(atob(encoded), (m) => m.codePointAt(0)) ]); let reader = blob.stream().pipeThrough( new DecompressionStream(\"deflate\") ).pipeThrough( new TextDecoderStream(\"utf-8\") ).getReader(); let parts = []; while (true) { let step = await reader.read(); if (step.done) { break; } parts.push(step.value); } let newElt = document.createElement(\"div\"); newElt.innerHTML = parts.join(\"\"); destElt.parentNode.replaceChild(newElt, destElt); for (let oldScript of newElt.querySelectorAll(\"script\")) { let newScript = document.createElement(\"script\"); newScript.type = oldScript.type; newScript.textContent = oldScript.textContent; oldScript.parentNode.replaceChild(newScript, oldScript); } })(); requestAnimationFrame(() => { observer.observe(destElt); }); } })(); </script><div id=\"compress_html_d8579ac8635241758c66098f55d0e9a1\"><script>window.treescope_decompress_enqueue(\"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\", \"compress_html_d8579ac8635241758c66098f55d0e9a1\");</script><span style=\"color: #aaaaaa; font-family: monospace\">(Loading...)</span></div></div>"
      ],
      "text/plain": [
       "<IPython.core.display.HTML object>"
      ]
     },
     "metadata": {},
     "output_type": "display_data"
    },
    {
     "data": {
      "text/html": [
       "<div id=\"output_dest_0ee7f372227e4679a1c873e4b9cfc79d\"><script> (()=>{ const output = document.getElementById(\"output_0ee7f372227e4679a1c873e4b9cfc79d\"); const dest = document.getElementById(\"output_dest_0ee7f372227e4679a1c873e4b9cfc79d\"); dest.parentNode.replaceChild(output, dest); })(); </script></div>"
      ],
      "text/plain": [
       "<matplotlib.image.AxesImage at 0x2bdedf860>"
      ]
     },
     "execution_count": 362,
     "metadata": {},
     "output_type": "execute_result"
    },
    {
     "data": {
      "image/png": "[encoded data removed]",
      "text/plain": [
       "<Figure size 640x480 with 1 Axes>"
      ]
     },
     "metadata": {},
     "output_type": "display_data"
    }
   ],
   "source": [
    "plt.imshow(tr.get_sample()[\"observations\", \"obs\"].sum(axis=0))"
   ]
  },
  {
   "cell_type": "code",
   "execution_count": 347,
   "metadata": {},
   "outputs": [],
   "source": [
    "obs = tr.get_retval()[1]"
   ]
  },
  {
   "cell_type": "code",
   "execution_count": 348,
   "metadata": {},
   "outputs": [
    {
     "data": {
      "text/html": [
       "<div id=\"output_70878cd9589045708f2e118e20aa5cc3\"><script> /* penzai.treescope rendering of a Python object (compressed) */ (()=>{ let observer; let lastStep = new Promise((resolve, reject) => { observer = new IntersectionObserver((entries) => { for (const entry of entries) { if (entry.isIntersecting) { resolve(); observer.disconnect(); return; } } }, {rootMargin: \"1000px\"}); }); window.treescope_decompress_enqueue = (encoded, destId) => { const previous = lastStep; const destElt = document.getElementById(destId); lastStep = (async () => { await previous; let blob = new Blob([ Uint8Array.from(atob(encoded), (m) => m.codePointAt(0)) ]); let reader = blob.stream().pipeThrough( new DecompressionStream(\"deflate\") ).pipeThrough( new TextDecoderStream(\"utf-8\") ).getReader(); let parts = []; while (true) { let step = await reader.read(); if (step.done) { break; } parts.push(step.value); } let newElt = document.createElement(\"div\"); newElt.innerHTML = parts.join(\"\"); destElt.parentNode.replaceChild(newElt, destElt); for (let oldScript of newElt.querySelectorAll(\"script\")) { let newScript = document.createElement(\"script\"); newScript.type = oldScript.type; newScript.textContent = oldScript.textContent; oldScript.parentNode.replaceChild(newScript, oldScript); } })(); requestAnimationFrame(() => { observer.observe(destElt); }); } })(); </script><div id=\"compress_html_e7ad994793714761a3275a4666f31068\"><script>window.treescope_decompress_enqueue(\"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\", \"compress_html_e7ad994793714761a3275a4666f31068\");</script><span style=\"color: #aaaaaa; font-family: monospace\">(Loading...)</span></div></div>"
      ],
      "text/plain": [
       "<IPython.core.display.HTML object>"
      ]
     },
     "metadata": {},
     "output_type": "display_data"
    },
    {
     "data": {
      "text/html": [
       "<div id=\"compress_html_8caf9e4d61bd4a2597cc510f043a94f1\"><script>window.treescope_decompress_enqueue(\"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\", \"compress_html_8caf9e4d61bd4a2597cc510f043a94f1\");</script></div>"
      ],
      "text/plain": [
       "<IPython.core.display.HTML object>"
      ]
     },
     "metadata": {},
     "output_type": "display_data"
    },
    {
     "data": {
      "text/html": [
       "<div id=\"output_dest_70878cd9589045708f2e118e20aa5cc3\"><script> (()=>{ const output = document.getElementById(\"output_70878cd9589045708f2e118e20aa5cc3\"); const dest = document.getElementById(\"output_dest_70878cd9589045708f2e118e20aa5cc3\"); dest.parentNode.replaceChild(output, dest); })(); </script></div>"
      ],
      "text/plain": [
       "GenerativeFunctionClosure(...)"
      ]
     },
     "execution_count": 348,
     "metadata": {},
     "output_type": "execute_result"
    }
   ],
   "source": [
    "obs.va"
   ]
  },
  {
   "cell_type": "code",
   "execution_count": 249,
   "metadata": {},
   "outputs": [
    {
     "ename": "AttributeError",
     "evalue": "'tuple' object has no attribute 'value'",
     "output_type": "error",
     "traceback": [
      "\u001b[0;31m---------------------------------------------------------------------------\u001b[0m",
      "\u001b[0;31mAttributeError\u001b[0m                            Traceback (most recent call last)",
      "Cell \u001b[0;32mIn[249], line 2\u001b[0m\n\u001b[1;32m      1\u001b[0m ret \u001b[38;5;241m=\u001b[39m tr\u001b[38;5;241m.\u001b[39mget_retval()\n\u001b[0;32m----> 2\u001b[0m vals \u001b[38;5;241m=\u001b[39m jnp\u001b[38;5;241m.\u001b[39marray(\u001b[43mret\u001b[49m\u001b[38;5;241;43m.\u001b[39;49m\u001b[43mvalue\u001b[49m[\u001b[38;5;241m1\u001b[39m])\u001b[38;5;241m.\u001b[39msqueeze()[:, ret\u001b[38;5;241m.\u001b[39mflag \u001b[38;5;241m==\u001b[39m \u001b[38;5;241m1\u001b[39m, :]\n\u001b[1;32m      3\u001b[0m vals[\u001b[38;5;241m2\u001b[39m, \u001b[38;5;241m2\u001b[39m]\n",
      "\u001b[0;31mAttributeError\u001b[0m: 'tuple' object has no attribute 'value'"
     ]
    }
   ],
   "source": [
    "ret = tr.get_retval()\n",
    "vals = jnp.array(ret.value[1]).squeeze()[:, ret.flag == 1, :]\n",
    "vals[2, 2]"
   ]
  },
  {
   "cell_type": "code",
   "execution_count": 152,
   "metadata": {},
   "outputs": [
    {
     "data": {
      "text/html": [
       "<div id=\"output_05e33c3ce7934e58baff4bbf90e4872f\"><script> /* penzai.treescope rendering of a Python object (compressed) */ (()=>{ let observer; let lastStep = new Promise((resolve, reject) => { observer = new IntersectionObserver((entries) => { for (const entry of entries) { if (entry.isIntersecting) { resolve(); observer.disconnect(); return; } } }, {rootMargin: \"1000px\"}); }); window.treescope_decompress_enqueue = (encoded, destId) => { const previous = lastStep; const destElt = document.getElementById(destId); lastStep = (async () => { await previous; let blob = new Blob([ Uint8Array.from(atob(encoded), (m) => m.codePointAt(0)) ]); let reader = blob.stream().pipeThrough( new DecompressionStream(\"deflate\") ).pipeThrough( new TextDecoderStream(\"utf-8\") ).getReader(); let parts = []; while (true) { let step = await reader.read(); if (step.done) { break; } parts.push(step.value); } let newElt = document.createElement(\"div\"); newElt.innerHTML = parts.join(\"\"); destElt.parentNode.replaceChild(newElt, destElt); for (let oldScript of newElt.querySelectorAll(\"script\")) { let newScript = document.createElement(\"script\"); newScript.type = oldScript.type; newScript.textContent = oldScript.textContent; oldScript.parentNode.replaceChild(newScript, oldScript); } })(); requestAnimationFrame(() => { observer.observe(destElt); }); } })(); </script><div id=\"compress_html_aaac1b7a1c9b467f94cd019d102eb98c\"><script>window.treescope_decompress_enqueue(\"eNrFV1tv2zYU/iunGpDKQawkjnOpZBsIug57KPbSAXvYBoGSjizONKmRdBKv8H/fISXf5TbDis1+kHl4Lt+5yyNjlwInkdWIJlc1plopC5+hVoZbrmQMGgWz/AkTKJW0/ZLNuVjGMFdSmZrlRH+uuMW+P8RQa6IIbmzfq+7bZU1UqSSRM5bPplotZNHPlVA6bkQTaE+ZIAbSxwtbxVByS2zSorQJzJmectkXWNoYBnnlbEjsV8inFVGuo9sEVqPLxp2RyTWv7QR4CeEzl4V63noI4/EYCAKWpKDoka/HHPB5lRyRo7RGWXA5fcxdZAyx/fr7V9l+ZLIQTqVcCNHBPUWbHkR/DOE66KlVPRhPCOTlOXxUakZJ0GArBM8pVYERnF+CQAut7I6oTw0ZD5u7N2MoVL6YU0CjTBVLODuDN+4mygUz5iMlLXIBZ1yaMNgHFfTAhWptwwnVTJOmDwLnPkMrsmwXWvpLOnb4qhfyk1LSOfis9Kz1jEwaS8h+IZK72iNbnjtijZocnzOZYyTVc9jbuHZ0A/1GaAQ3Awe5qwYOUxkJlFNbUWnAVVdFfDmnjd8uAigMbqFXC+mwf9W4qXhpnUtewv1Y0fe1GMI1p8Y/F2jso+Rz5jh+0GyOYRPXXq87I4dQ6oWpmtwkrwncGsS4CcU/Cd3rYXcCR0lSC/weS9Qai59xXlPZozkuoFo44qbwSUwvP6HA3Cr9KAQVeiu7OwQXMjVUqUEv8Q0Xuv4iTaBKr9A5Ss+dvtE4V0+41zU7Ok51QrjG6vSXWv2Frjm85mbw7cMNg2awOZVOgk67ruUayY22IXd56Vfk5jAxN0b8qaXji33fGNu53hITD6fp9Z/cuNFI0crxPbVfEZKGC8fg8nQyV1ZNp6IZI6mf/paA+SlHFBT2AvCJtLehcGXnz9EMl64jAx2sRw8x78S80RsGG53pnAAGaxwroH3QLIJRwZ/AC44P5xpYlhFgfBkHVwEoSUYJvdzh68Yf2oqbNfKAVk6zSIu2IFMfpEqJArWvRb/gvmP37tuuUi8SA7dM8JzwRiWxs4xMubl+YgmvYJ8tbdARd8ENGV2ul+0hI0xAsAxFHGdINY07qHL/STrtNRu3f+1WbruYr5KtLS79Hs6Ecpv7pM2KmkMfWy6YnhlkUwq1PJaOpbLhAaliJpx4nZPOOHiZOK8wn9Fy78F5b4vBiXYLrfn3EPryj+Htb4PbLH/7f8LbFzoJ8u4/AOny6AwvtHEJrBUnBLrDLjffzqxvBW+o7/vNnKrxb2N1656bg8dWIm7SkmtjUyVTV/4drfWlVooGt66bOlMF/xp+k/FDiM6rvXdo39A7b8w1k8CLcbAZYNnd/fXN8OHh9uaODXFwlQ0H91fvsuHDu4e74bvhfdAKtWN1v+8PzRNz48SIy3pBu5T2zzjwsDP1EnQqaT2ky8a7yejSC9Oz1bVrv2vwBpMzYZM/2Ev0qDVbQikUszeD8OYCrq/oRS+KIjib2oSiQJomhw9aGpu/Eq9+AQl7m63zNyFjwOM=\", \"compress_html_aaac1b7a1c9b467f94cd019d102eb98c\");</script><span style=\"color: #aaaaaa; font-family: monospace\">(Loading...)</span></div></div>"
      ],
      "text/plain": [
       "<IPython.core.display.HTML object>"
      ]
     },
     "metadata": {},
     "output_type": "display_data"
    },
    {
     "data": {
      "text/html": [
       "<div id=\"compress_html_3a7f7cae6b3c4152b50a9ef534245879\"><script>window.treescope_decompress_enqueue(\"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\", \"compress_html_3a7f7cae6b3c4152b50a9ef534245879\");</script></div>"
      ],
      "text/plain": [
       "<IPython.core.display.HTML object>"
      ]
     },
     "metadata": {},
     "output_type": "display_data"
    },
    {
     "data": {
      "text/html": [
       "<div id=\"output_dest_05e33c3ce7934e58baff4bbf90e4872f\"><script> (()=>{ const output = document.getElementById(\"output_05e33c3ce7934e58baff4bbf90e4872f\"); const dest = document.getElementById(\"output_dest_05e33c3ce7934e58baff4bbf90e4872f\"); dest.parentNode.replaceChild(output, dest); })(); </script></div>"
      ],
      "text/plain": [
       "<jax.Array float32(3, 100) ≈2.6e+01 ±1.1e+01 [≥9.5, ≤4.5e+01] nonzero:300>"
      ]
     },
     "execution_count": 152,
     "metadata": {},
     "output_type": "execute_result"
    }
   ],
   "source": [
    "vals = chm[\"fireflies\", ..., \"dynamics\", ..., \"x\"]\n",
    "vals.value[jnp.where(vals.flag == 1)]"
   ]
  },
  {
   "cell_type": "code",
   "execution_count": 75,
   "metadata": {},
   "outputs": [
    {
     "data": {
      "text/html": [
       "<div id=\"output_4357a8aa6ed943459a760b98ebf89328\"><script> /* penzai.treescope rendering of a Python object (compressed) */ (()=>{ let observer; let lastStep = new Promise((resolve, reject) => { observer = new IntersectionObserver((entries) => { for (const entry of entries) { if (entry.isIntersecting) { resolve(); observer.disconnect(); return; } } }, {rootMargin: \"1000px\"}); }); window.treescope_decompress_enqueue = (encoded, destId) => { const previous = lastStep; const destElt = document.getElementById(destId); lastStep = (async () => { await previous; let blob = new Blob([ Uint8Array.from(atob(encoded), (m) => m.codePointAt(0)) ]); let reader = blob.stream().pipeThrough( new DecompressionStream(\"deflate\") ).pipeThrough( new TextDecoderStream(\"utf-8\") ).getReader(); let parts = []; while (true) { let step = await reader.read(); if (step.done) { break; } parts.push(step.value); } let newElt = document.createElement(\"div\"); newElt.innerHTML = parts.join(\"\"); destElt.parentNode.replaceChild(newElt, destElt); for (let oldScript of newElt.querySelectorAll(\"script\")) { let newScript = document.createElement(\"script\"); newScript.type = oldScript.type; newScript.textContent = oldScript.textContent; oldScript.parentNode.replaceChild(newScript, oldScript); } })(); requestAnimationFrame(() => { observer.observe(destElt); }); } })(); </script><div id=\"compress_html_13e6556fd02445f39eb79c873611513a\"><script>window.treescope_decompress_enqueue(\"eNrlWFtv2zYU/iusCqRyUCuOnaSJb0DQbdhDsZcO28M2CLR4ZHGhSY2kkrhF/vsOSSm2bDlJsWB7WPxg6/BcvnOnMjV2LWCeWA1gMlVCqpWy5CspleGWKzkmGgS1/BYmJFfS9nO64mI9JisllSlphvS7glvo+4cxKTVSBDe271X37bpEqlQSyQua3Sy1qiTrZ0ooPQ6iE1I/LQQyoD7ObDEmObfIJi1IOyErqpdc9gXkdkyGWeFsSOgXwJcFUk6T8wl5mJ4Ed6Ym07y0c8JzEt9xydTdxkMym80IQoAcFbAe+rrPQb4+TPbISVqCZFwurzMXGYNsv/3xLNuPVDLhVMpKiA7uJdh0J/ozEjdBT63qkdkcQZ4ck09K3WASNLEFEM8pFYOEHJ8QAZbUsluiPjVoPA5nb2aEqaxaYUCThWJrcnRE3riTJBPUmE+YtMQFnHJp4qgNKuoRF6rGhhMqqUZN3wtY+Qw9oGVbaekP8bHDV13Jz0pJ5+Cd0je1Z2jSWET2K5LcUYtseeaIJWh0fEVlBolUd3Hv0bW9E9IPQlMyGjrIXTWwm8pEgFzaAkuDDLoq4umcBr9dBEAY2EAvKumwP2vcFDy3ziUv4X484OelGOKGU8NfFRh7LfmKOo4fNF1BHOLa63VnZBdKWZki5GbyksA1IGYhFN8SupfD7gQOEqUq+A5y0BrYz7AqsezB7BdQKRzxsfBRTK8/g4DMKn0tBBZ6Lbs9BCuZGqzUqDfxDRe7/kJNROVeoXMUv7f6RsNK3UKra7Z0HOqEuMHq9OdafQHXHF5zGHxtuHEUBptT6STwadu1TAO6UTfkNi/+StwcRuZgxD/VdLi3H4OxreMNceLhhF7/yY0bDRitDD5i+7EYNbx3DC5PB3Nl1XIpwhhJ/fS3CMxPOaSAsO8J3KL2OhSu7PxzcgNr15GRjprRg8xbMQ964+hRZ7pCgFGD44HgPgiLYMr4LfGCs925RixdIGC4n0WDiCiJRhG93OLrxh/bgpsGeYQrJyxSv8nSTK1cDnwR+s32lvo/B2qHhY6lsvG4wOrRvQ7+hNUlnvqwF0ow0NuKP7hPvZw9iDHhlgqeOeEc2ekCwbtNcWCtI6QWWxr8RW7GDRpdN+t7l5HMiaALEOPxArBLYAtV5v8mnfbCDu+fuiVer/rBZGOLS7/ZF0K5u8BBmz5g+5YZ1TcG6BKTJ/elfax3SAU18dzrnHfGIeQnKyC7wetCjxz3NhicaLdQw99C6BtqTN79PjxfZO/+S3htoYMgL/4FkC6PznCljUtgqTgi0B12uXk9s74VvKG+72BzqMZfx+rGPTdZ960k3KQ518amSqau/Dta66lWSobnrps6U0X+MfyQ8V2IzqvWrdw39ENyV4DE6SYELQ2w56fINwN6wkKYHd6GZ4L7Eu8bB3leA0eXidrRwLDZeF2haG+jpL3KyBMadl2VreXazfgSYwf11JA371jod7NT2zCj+pCzWfS4vUang0E+gqvBxRk9u/xwtQCgF/nganCVfxics0HU1tge+ru1h8whUVMuywqvZnidmUU+NQt1H3UqqbOIhyGD8+mJF8bvWte2/a6tG82PhJ38Se+Ta63pGiNrR8MY/XqPxZAk5GhpJxge1DLv/toLWSvYnWG7vLocwMXpcDhiZ2cMV/2IZZcDyuB0NKRnsPhfhq3pueglVVgftm5d0ZyQt+QXbiq8KH3xrx2k4Izh9Zu7F9im/F1fHICGN8rH/zO8+O0k7j1eSf8GLak+Xw==\", \"compress_html_13e6556fd02445f39eb79c873611513a\");</script><span style=\"color: #aaaaaa; font-family: monospace\">(Loading...)</span></div></div>"
      ],
      "text/plain": [
       "<IPython.core.display.HTML object>"
      ]
     },
     "metadata": {},
     "output_type": "display_data"
    },
    {
     "data": {
      "text/html": [
       "<div id=\"compress_html_caf02759c56b432886006006ccd99500\"><script>window.treescope_decompress_enqueue(\"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\", \"compress_html_caf02759c56b432886006006ccd99500\");</script></div>"
      ],
      "text/plain": [
       "<IPython.core.display.HTML object>"
      ]
     },
     "metadata": {},
     "output_type": "display_data"
    },
    {
     "data": {
      "text/html": [
       "<div id=\"output_dest_4357a8aa6ed943459a760b98ebf89328\"><script> (()=>{ const output = document.getElementById(\"output_4357a8aa6ed943459a760b98ebf89328\"); const dest = document.getElementById(\"output_dest_4357a8aa6ed943459a760b98ebf89328\"); dest.parentNode.replaceChild(output, dest); })(); </script></div>"
      ],
      "text/plain": [
       "<jax.Array int32(100,) [≥0, ≤1] zero:82 nonzero:18\n",
       "  <Arrayviz rendering>\n",
       ">"
      ]
     },
     "execution_count": 75,
     "metadata": {},
     "output_type": "execute_result"
    }
   ],
   "source": [
    "chm[\"dynamics\", ..., \"blink\"]"
   ]
  },
  {
   "cell_type": "code",
   "execution_count": null,
   "metadata": {},
   "outputs": [],
   "source": []
  }
 ],
 "metadata": {
  "kernelspec": {
   "display_name": "genjax",
   "language": "python",
   "name": "python3"
  },
  "language_info": {
   "codemirror_mode": {
    "name": "ipython",
    "version": 3
   },
   "file_extension": ".py",
   "mimetype": "text/x-python",
   "name": "python",
   "nbconvert_exporter": "python",
   "pygments_lexer": "ipython3",
   "version": "3.12.3"
  }
 },
 "nbformat": 4,
 "nbformat_minor": 2
}
