{
 "cells": [
  {
   "cell_type": "code",
   "execution_count": null,
   "metadata": {},
   "outputs": [],
   "source": [
    "%load_ext autoreload\n",
    "%autoreload 2\n",
    "\n",
    "import jax\n",
    "import time\n",
    "import jax.numpy as jnp\n",
    "import numpy as np\n",
    "import genjax\n",
    "from genjax import gen, Mask, Diff\n",
    "from genjax import ChoiceMapBuilder as C\n",
    "from genjax import UpdateProblemBuilder as U\n",
    "from genjax import SelectionBuilder as S\n",
    "from genjax._src.core.interpreters.staging import Flag\n",
    "\n",
    "import jax.tree_util as jtu\n",
    "genjax.pretty()\n",
    "import copy\n",
    "import matplotlib.pyplot as plt\n",
    "from matplotlib.lines import Line2D\n",
    "from IPython.display import HTML as HTML_Display\n",
    "from matplotlib.animation import FuncAnimation\n",
    "\n",
    "from maskcombinator_model import *\n",
    "from distributions import *\n",
    "from config import *\n",
    "from render import *"
   ]
  },
  {
   "cell_type": "code",
   "execution_count": null,
   "metadata": {},
   "outputs": [],
   "source": [
    "def and_new_keys(key, N):\n",
    "    key, tmp_key = jax.random.split(key)\n",
    "    new_keys = jax.random.split(tmp_key, N)\n",
    "    return key, new_keys\n",
    "\n",
    "def summary_stats(weights):\n",
    "    print('mean={mean}, std={std}, min={min}, max={max}'.format(\n",
    "        mean=jnp.mean(weights), std=jnp.std(weights),\n",
    "        min=jnp.min(weights), max=jnp.max(weights)))"
   ]
  },
  {
   "cell_type": "code",
   "execution_count": null,
   "metadata": {},
   "outputs": [],
   "source": [
    "def make_step_choicemap(observation_chm, step_index):\n",
    "    pixels = observation_chm[\"steps\", step_index, \"observations\", \"pixels\"].value\n",
    "    return C[\"steps\", step_index, \"observations\", \"pixels\"].set(pixels)\n",
    "\n",
    "def make_masked_combinator_step_update_problem(init_carry, observations, step, num_steps):\n",
    "    argdiffs = (\n",
    "        Diff.no_change(init_carry),\n",
    "        Diff.unknown_change(Flag(jnp.arange(num_steps) <= step)),\n",
    "    )\n",
    "    chm = make_step_choicemap(observations, step)\n",
    "    return U.g(argdiffs, chm)"
   ]
  },
  {
   "cell_type": "code",
   "execution_count": null,
   "metadata": {},
   "outputs": [],
   "source": [
    "def make_sequential_monte_carlo_sampler(masked_model, observations_dict, num_particles, num_steps=None):\n",
    "    if not num_steps:\n",
    "        num_steps = len(next(iter(observations_dict.values())))\n",
    "    \n",
    "    def sequential_monte_carlo_sampler(key, step_init_args):\n",
    "        key, init_keys = and_new_keys(key, num_particles)\n",
    "        \n",
    "        init_chm = make_step_choicemap(observations_dict, 0)\n",
    "        model_init_args = step_init_args, Flag(jnp.arange(num_steps) <= 0)\n",
    "        init_particles, init_weights = jax.vmap(masked_model.importance, in_axes=(0, None, None))(\n",
    "            init_keys, init_chm, model_init_args)\n",
    "\n",
    "        def scan_fn(smc_scan_state, scan_input):\n",
    "            (prev_weights, step_particles) = smc_scan_state\n",
    "            key, time_step = scan_input\n",
    "            key, resample_key = jax.random.split(key)\n",
    "            # With this we recover SIS performance.\n",
    "            # parents = jax.random.permutation(resample_key, jnp.arange(num_particles))\n",
    "            parents = jax.random.categorical(resample_key, prev_weights, shape=(num_particles,))\n",
    "\n",
    "            step_particles = jax.tree.map(lambda x: x[parents], step_particles)\n",
    "\n",
    "            key, step_keys = and_new_keys(key, num_particles)\n",
    "            update_problem = make_masked_combinator_step_update_problem(\n",
    "                step_init_args, observations_dict, time_step, num_steps)\n",
    "        \n",
    "            # We can overwrite the weights since we've resampled unconditionally. If / when we \n",
    "            # modify the code to sample based on ESS, we'll have to be more careful.\n",
    "            step_particles, step_weights, _, _ = jax.vmap(masked_model.update, in_axes=(0, 0, None))(\n",
    "                step_keys, step_particles, update_problem)\n",
    "\n",
    "            return (step_weights, step_particles), step_particles\n",
    "            \n",
    "        scan_keys = jax.random.split(key, num_steps - 1)\n",
    "\n",
    "        (_, final_particles), particle_history = jax.lax.scan(\n",
    "            scan_fn, (init_weights, init_particles), (scan_keys, jnp.arange(1, num_steps)))\n",
    "        \n",
    "        return final_particles, particle_history\n",
    "\n",
    "    return sequential_monte_carlo_sampler\n"
   ]
  },
  {
   "cell_type": "code",
   "execution_count": null,
   "metadata": {},
   "outputs": [],
   "source": [
    "max_fireflies = jnp.arange(1, 5)\n",
    "key = jax.random.PRNGKey(20)\n",
    "key, subkey = jax.random.split(key)\n",
    "constraints = C.d({\"n_fireflies\": 1})\n",
    "run_until = Flag(jnp.arange(TIME_STEPS) < TIME_STEPS)\n",
    "trace, weight = jax.jit(multifirefly_model.importance)(subkey, constraints, (max_fireflies, run_until,))\n",
    "gt_choices = trace.get_sample()\n"
   ]
  },
  {
   "cell_type": "code",
   "execution_count": null,
   "metadata": {},
   "outputs": [],
   "source": [
    "import matplotlib.pyplot as plt\n",
    "from IPython.display import HTML\n",
    "frames = get_frames(gt_choices)\n",
    "anim = animate(frames, 20)\n",
    "HTML(anim.to_html5_video())"
   ]
  },
  {
   "cell_type": "code",
   "execution_count": null,
   "metadata": {},
   "outputs": [],
   "source": [
    "masked_model = multifirefly_model\n",
    "num_particles = 100\n",
    "step_init_args = max_fireflies\n",
    "smc_sampler = make_sequential_monte_carlo_sampler(masked_model, gt_choices, num_particles, num_steps=TIME_STEPS)\n",
    "key, smc_key = jax.random.split(key)\n",
    "smc_particles, smc_history = jax.jit(smc_sampler)(smc_key, step_init_args)"
   ]
  },
  {
   "cell_type": "code",
   "execution_count": null,
   "metadata": {},
   "outputs": [],
   "source": [
    "batched_choicemap = jax.vmap(lambda tr: tr.get_sample(), in_axes=(0,))(smc_particles)"
   ]
  },
  {
   "cell_type": "code",
   "execution_count": null,
   "metadata": {},
   "outputs": [],
   "source": [
    "smc_history.score"
   ]
  },
  {
   "cell_type": "code",
   "execution_count": null,
   "metadata": {},
   "outputs": [],
   "source": [
    "trace_history = jax.vmap(lambda traces: jax.vmap(lambda tr: tr.get_sample(), in_axes=(0,))(traces), in_axes=(0,))(smc_history)\n",
    "\n",
    "n_fireflies_over_time = (trace_history[\"n_fireflies\"]).mean(axis=1) \n",
    "plt.plot(n_fireflies_over_time)\n",
    "plt.title(\"Particle Averaged Firefly Estimate per SMC Timestep\")\n",
    "plt.yticks(range(1, 5), range(1, 5))\n",
    "plt.ylabel(\"Particle-Averaged Firefly Estimate\")\n",
    "plt.xlabel(\"SMC Time Step\")\n",
    "plt.show()"
   ]
  },
  {
   "cell_type": "code",
   "execution_count": null,
   "metadata": {},
   "outputs": [],
   "source": [
    "scantrace = smc_history.subtraces[2]\n",
    "scantrace, scantrace.inner, scantrace.scan_gen_fn.length"
   ]
  },
  {
   "cell_type": "code",
   "execution_count": null,
   "metadata": {},
   "outputs": [],
   "source": [
    "key = jax.random.PRNGKey(0)\n",
    "@gen\n",
    "def f(x):\n",
    "    return genjax.normal(x, 0.01).repeat(n=10)() @ 'x'\n",
    "\n",
    "M = 5\n",
    "N = 4\n",
    "key, sub_key = jax.random.split(key)\n",
    "vvtr = jax.vmap(jax.vmap(f.simulate))(sub_key, (jnp.eye(M, N),))"
   ]
  },
  {
   "cell_type": "code",
   "execution_count": null,
   "metadata": {},
   "outputs": [],
   "source": [
    "best_weights, best_particle = jax.lax.top_k(smc_particles.score, 1)\n",
    "frames = batched_choicemap[\"steps\", best_particle[0], \"observations\", \"pixels\"].value\n",
    "anim = animate(frames, 10)\n",
    "HTML(anim.to_jshtml())"
   ]
  },
  {
   "cell_type": "code",
   "execution_count": null,
   "metadata": {},
   "outputs": [],
   "source": [
    "def get_latents()"
   ]
  }
 ],
 "metadata": {
  "kernelspec": {
   "display_name": "genjax",
   "language": "python",
   "name": "python3"
  },
  "language_info": {
   "codemirror_mode": {
    "name": "ipython",
    "version": 3
   },
   "file_extension": ".py",
   "mimetype": "text/x-python",
   "name": "python",
   "nbconvert_exporter": "python",
   "pygments_lexer": "ipython3",
   "version": "3.12.3"
  }
 },
 "nbformat": 4,
 "nbformat_minor": 2
}
