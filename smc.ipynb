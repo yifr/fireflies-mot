{
 "cells": [
  {
   "cell_type": "code",
   "execution_count": 1,
   "metadata": {},
   "outputs": [],
   "source": [
    "import jax\n",
    "import time\n",
    "import jax.numpy as jnp\n",
    "import numpy as np\n",
    "import genjax\n",
    "from genjax import gen, Mask, Diff\n",
    "from genjax import ChoiceMapBuilder as C\n",
    "from genjax import UpdateProblemBuilder as U\n",
    "from genjax import SelectionBuilder as S\n",
    "import jax.tree_util as jtu\n",
    "genjax.pretty()\n",
    "import copy\n",
    "import matplotlib.pyplot as plt\n",
    "from matplotlib.lines import Line2D\n",
    "from IPython.display import HTML as HTML_Display\n",
    "from matplotlib.animation import FuncAnimation\n",
    "\n",
    "from maskcombinator_model import *\n",
    "from config import *\n",
    "from render import *"
   ]
  },
  {
   "cell_type": "code",
   "execution_count": 2,
   "metadata": {},
   "outputs": [],
   "source": [
    "def and_new_keys(key, N):\n",
    "    key, tmp_key = jax.random.split(key)\n",
    "    new_keys = jax.random.split(tmp_key, N)\n",
    "    return key, new_keys\n",
    "\n",
    "def summary_stats(weights):\n",
    "    print('mean={mean}, std={std}, min={min}, max={max}'.format(\n",
    "        mean=jnp.mean(weights), std=jnp.std(weights),\n",
    "        min=jnp.min(weights), max=jnp.max(weights)))"
   ]
  },
  {
   "cell_type": "code",
   "execution_count": 3,
   "metadata": {},
   "outputs": [],
   "source": [
    "def make_step_choicemap(observation_chm, step_index):\n",
    "    pixels = observation_chm[\"steps\", step_index, \"observations\", \"pixels\"].value\n",
    "    return C.d({\"steps\": {step_index: {\"observations\": {\"pixels\": pixels}}}})\n",
    "\n",
    "def make_masked_combinator_step_update_problem(init_carry, observations, step, num_steps):\n",
    "    argdiffs = (\n",
    "        Diff.no_change(init_carry),\n",
    "        Diff.unknown_change(jnp.arange(num_steps) <= step),\n",
    "    )\n",
    "    chm = make_step_choicemap(observations, step)\n",
    "    return U.g(argdiffs, chm)"
   ]
  },
  {
   "cell_type": "code",
   "execution_count": 4,
   "metadata": {},
   "outputs": [],
   "source": [
    "def make_sequential_monte_carlo_sampler(masked_model, observations_dict, num_particles, num_steps=None):\n",
    "    if not num_steps:\n",
    "        num_steps = len(next(iter(observations_dict.values())))\n",
    "    \n",
    "    def sequential_monte_carlo_sampler(key, step_init_args):\n",
    "        key, init_keys = and_new_keys(key, num_particles)\n",
    "\n",
    "        init_chm = make_step_choicemap(observations_dict, 0)\n",
    "        model_init_args = (step_init_args, jnp.arange(num_steps) <= 0)\n",
    "        init_particles, init_weights = jax.vmap(masked_model.importance, in_axes=(0, None, None))(\n",
    "            init_keys, init_chm, model_init_args)\n",
    "                \n",
    "        def scan_fn(smc_scan_state, scan_input):\n",
    "            (prev_weights, step_particles) = smc_scan_state\n",
    "            key, time_step = scan_input\n",
    "\n",
    "            key, resample_key = jax.random.split(key)\n",
    "            # With this we recover SIS performance.\n",
    "            # parents = jax.random.permutation(resample_key, jnp.arange(num_particles))\n",
    "            parents = jax.random.categorical(resample_key, prev_weights, shape=(num_particles,))\n",
    "\n",
    "            step_particles = jax.tree.map(lambda x: x[parents], step_particles)\n",
    "\n",
    "            key, step_keys = and_new_keys(key, num_particles)\n",
    "            update_problem = make_masked_combinator_step_update_problem(\n",
    "                step_init_args, observations_dict, time_step, num_steps)\n",
    "\n",
    "            # We can overwrite the weights since we've resampled unconditionally. If / when we \n",
    "            # modify the code to sample based on ESS, we'll have to be more careful.\n",
    "            step_particles, step_weights, _, _ = jax.vmap(masked_model.update, in_axes=(0, 0, None))(\n",
    "                step_keys, step_particles, update_problem)\n",
    "        \n",
    "            return (step_weights, step_particles), None\n",
    "            \n",
    "        scan_keys = jax.random.split(key, num_steps - 1)\n",
    "\n",
    "        (_, final_particles), _ = jax.lax.scan(\n",
    "            scan_fn, (init_weights, init_particles), (scan_keys, jnp.arange(1, num_steps)))\n",
    "        \n",
    "        return final_particles\n",
    "\n",
    "    return sequential_monte_carlo_sampler\n"
   ]
  },
  {
   "cell_type": "code",
   "execution_count": 5,
   "metadata": {},
   "outputs": [
    {
     "name": "stdout",
     "output_type": "stream",
     "text": [
      "Mask(...)\n"
     ]
    },
    {
     "ename": "TracerIntegerConversionError",
     "evalue": "The __index__() method was called on traced array with shape int32[]\nSee https://jax.readthedocs.io/en/latest/errors.html#jax.errors.TracerIntegerConversionError",
     "output_type": "error",
     "traceback": [
      "\u001b[0;31m---------------------------------------------------------------------------\u001b[0m",
      "\u001b[0;31mTracerIntegerConversionError\u001b[0m              Traceback (most recent call last)",
      "Cell \u001b[0;32mIn[5], line 11\u001b[0m\n\u001b[1;32m      9\u001b[0m smc_sampler \u001b[38;5;241m=\u001b[39m make_sequential_monte_carlo_sampler(masked_model, gt_trace, num_particles, num_steps\u001b[38;5;241m=\u001b[39m\u001b[38;5;241m100\u001b[39m)\n\u001b[1;32m     10\u001b[0m key, smc_key \u001b[38;5;241m=\u001b[39m jax\u001b[38;5;241m.\u001b[39mrandom\u001b[38;5;241m.\u001b[39msplit(key)\n\u001b[0;32m---> 11\u001b[0m smc_particles \u001b[38;5;241m=\u001b[39m \u001b[43mjax\u001b[49m\u001b[38;5;241;43m.\u001b[39;49m\u001b[43mjit\u001b[49m\u001b[43m(\u001b[49m\u001b[43msmc_sampler\u001b[49m\u001b[43m)\u001b[49m\u001b[43m(\u001b[49m\u001b[43msmc_key\u001b[49m\u001b[43m,\u001b[49m\u001b[43m \u001b[49m\u001b[43mstep_init_args\u001b[49m\u001b[43m)\u001b[49m\n",
      "    \u001b[0;31m[... skipping hidden 11 frame]\u001b[0m\n",
      "Cell \u001b[0;32mIn[4], line 10\u001b[0m, in \u001b[0;36mmake_sequential_monte_carlo_sampler.<locals>.sequential_monte_carlo_sampler\u001b[0;34m(key, step_init_args)\u001b[0m\n\u001b[1;32m      8\u001b[0m init_chm \u001b[38;5;241m=\u001b[39m make_step_choicemap(observations_dict, \u001b[38;5;241m0\u001b[39m)\n\u001b[1;32m      9\u001b[0m model_init_args \u001b[38;5;241m=\u001b[39m (step_init_args, jnp\u001b[38;5;241m.\u001b[39marange(num_steps) \u001b[38;5;241m<\u001b[39m\u001b[38;5;241m=\u001b[39m \u001b[38;5;241m0\u001b[39m)\n\u001b[0;32m---> 10\u001b[0m init_particles, init_weights \u001b[38;5;241m=\u001b[39m \u001b[43mjax\u001b[49m\u001b[38;5;241;43m.\u001b[39;49m\u001b[43mvmap\u001b[49m\u001b[43m(\u001b[49m\u001b[43mmasked_model\u001b[49m\u001b[38;5;241;43m.\u001b[39;49m\u001b[43mimportance\u001b[49m\u001b[43m,\u001b[49m\u001b[43m \u001b[49m\u001b[43min_axes\u001b[49m\u001b[38;5;241;43m=\u001b[39;49m\u001b[43m(\u001b[49m\u001b[38;5;241;43m0\u001b[39;49m\u001b[43m,\u001b[49m\u001b[43m \u001b[49m\u001b[38;5;28;43;01mNone\u001b[39;49;00m\u001b[43m,\u001b[49m\u001b[43m \u001b[49m\u001b[38;5;28;43;01mNone\u001b[39;49;00m\u001b[43m)\u001b[49m\u001b[43m)\u001b[49m\u001b[43m(\u001b[49m\n\u001b[1;32m     11\u001b[0m \u001b[43m    \u001b[49m\u001b[43minit_keys\u001b[49m\u001b[43m,\u001b[49m\u001b[43m \u001b[49m\u001b[43minit_chm\u001b[49m\u001b[43m,\u001b[49m\u001b[43m \u001b[49m\u001b[43mmodel_init_args\u001b[49m\u001b[43m)\u001b[49m\n\u001b[1;32m     13\u001b[0m \u001b[38;5;28;01mdef\u001b[39;00m \u001b[38;5;21mscan_fn\u001b[39m(smc_scan_state, scan_input):\n\u001b[1;32m     14\u001b[0m     (prev_weights, step_particles) \u001b[38;5;241m=\u001b[39m smc_scan_state\n",
      "    \u001b[0;31m[... skipping hidden 3 frame]\u001b[0m\n",
      "File \u001b[0;32m<@beartype(genjax._src.core.generative.core.GenerativeFunction.importance) at 0x11ed13ba0>:76\u001b[0m, in \u001b[0;36mimportance\u001b[0;34m(__beartype_object_4812026752, __beartype_get_violation, __beartype_conf, __beartype_object_4811067152, __beartype_object_4811089456, __beartype_object_4762702192, __beartype_func, *args, **kwargs)\u001b[0m\n",
      "File \u001b[0;32m~/.miniconda3/envs/genjax/lib/python3.12/site-packages/genjax/_src/core/generative/core.py:799\u001b[0m, in \u001b[0;36mGenerativeFunction.importance\u001b[0;34m(self, key, constraint, args)\u001b[0m\n\u001b[1;32m    757\u001b[0m \u001b[38;5;129m@typecheck\u001b[39m\n\u001b[1;32m    758\u001b[0m \u001b[38;5;28;01mdef\u001b[39;00m \u001b[38;5;21mimportance\u001b[39m(\n\u001b[1;32m    759\u001b[0m     \u001b[38;5;28mself\u001b[39m,\n\u001b[0;32m   (...)\u001b[0m\n\u001b[1;32m    762\u001b[0m     args: Arguments,\n\u001b[1;32m    763\u001b[0m ) \u001b[38;5;241m-\u001b[39m\u001b[38;5;241m>\u001b[39m Tuple[Trace, Weight]:\n\u001b[1;32m    764\u001b[0m \u001b[38;5;250m    \u001b[39m\u001b[38;5;124;03m\"\"\"\u001b[39;00m\n\u001b[1;32m    765\u001b[0m \u001b[38;5;124;03m    Returns a properly weighted pair, a [`Trace`][genjax.core.Trace] and a [`Weight`][genjax.core.Weight], properly weighted for the target induced by the generative function for the provided constraint and arguments.\u001b[39;00m\n\u001b[1;32m    766\u001b[0m \n\u001b[0;32m   (...)\u001b[0m\n\u001b[1;32m    797\u001b[0m \u001b[38;5;124;03m    Under the hood, creates an [`UpdateProblem`][genjax.core.UpdateProblem] which requests that the generative function respond with a move from the _empty_ trace (the only possible value for _empty_ target $\\\\delta_\\\\emptyset$) to the target induced by the generative function for constraint $C$ with arguments $a$.\u001b[39;00m\n\u001b[1;32m    798\u001b[0m \u001b[38;5;124;03m    \"\"\"\u001b[39;00m\n\u001b[0;32m--> 799\u001b[0m     tr, w, _, _ \u001b[38;5;241m=\u001b[39m \u001b[38;5;28;43mself\u001b[39;49m\u001b[38;5;241;43m.\u001b[39;49m\u001b[43mupdate\u001b[49m\u001b[43m(\u001b[49m\n\u001b[1;32m    800\u001b[0m \u001b[43m        \u001b[49m\u001b[43mkey\u001b[49m\u001b[43m,\u001b[49m\n\u001b[1;32m    801\u001b[0m \u001b[43m        \u001b[49m\u001b[43mEmptyTrace\u001b[49m\u001b[43m(\u001b[49m\u001b[38;5;28;43mself\u001b[39;49m\u001b[43m)\u001b[49m\u001b[43m,\u001b[49m\n\u001b[1;32m    802\u001b[0m \u001b[43m        \u001b[49m\u001b[43mGenericProblem\u001b[49m\u001b[43m(\u001b[49m\u001b[43mDiff\u001b[49m\u001b[38;5;241;43m.\u001b[39;49m\u001b[43munknown_change\u001b[49m\u001b[43m(\u001b[49m\u001b[43margs\u001b[49m\u001b[43m)\u001b[49m\u001b[43m,\u001b[49m\u001b[43m \u001b[49m\u001b[43mImportanceProblem\u001b[49m\u001b[43m(\u001b[49m\u001b[43mconstraint\u001b[49m\u001b[43m)\u001b[49m\u001b[43m)\u001b[49m\u001b[43m,\u001b[49m\n\u001b[1;32m    803\u001b[0m \u001b[43m    \u001b[49m\u001b[43m)\u001b[49m\n\u001b[1;32m    804\u001b[0m     \u001b[38;5;28;01mreturn\u001b[39;00m tr, w\n",
      "    \u001b[0;31m[... skipping hidden 1 frame]\u001b[0m\n",
      "File \u001b[0;32m<@beartype(genjax._src.generative_functions.static.StaticGenerativeFunction.update) at 0x13a1cf2e0>:77\u001b[0m, in \u001b[0;36mupdate\u001b[0;34m(__beartype_object_4812026752, __beartype_get_violation, __beartype_conf, __beartype_object_4811089456, __beartype_object_4811053200, __beartype_object_4762702192, __beartype_object_4810830240, __beartype_func, *args, **kwargs)\u001b[0m\n",
      "File \u001b[0;32m~/.miniconda3/envs/genjax/lib/python3.12/site-packages/genjax/_src/generative_functions/static.py:595\u001b[0m, in \u001b[0;36mStaticGenerativeFunction.update\u001b[0;34m(self, key, trace, update_problem)\u001b[0m\n\u001b[1;32m    593\u001b[0m \u001b[38;5;28;01mmatch\u001b[39;00m update_problem:\n\u001b[1;32m    594\u001b[0m     \u001b[38;5;28;01mcase\u001b[39;00m GenericProblem(argdiffs, subproblem):\n\u001b[0;32m--> 595\u001b[0m         \u001b[38;5;28;01mreturn\u001b[39;00m \u001b[38;5;28;43mself\u001b[39;49m\u001b[38;5;241;43m.\u001b[39;49m\u001b[43mupdate_change_target\u001b[49m\u001b[43m(\u001b[49m\u001b[43mkey\u001b[49m\u001b[43m,\u001b[49m\u001b[43m \u001b[49m\u001b[43mtrace\u001b[49m\u001b[43m,\u001b[49m\u001b[43m \u001b[49m\u001b[43msubproblem\u001b[49m\u001b[43m,\u001b[49m\u001b[43m \u001b[49m\u001b[43margdiffs\u001b[49m\u001b[43m)\u001b[49m\n\u001b[1;32m    596\u001b[0m     \u001b[38;5;28;01mcase\u001b[39;00m\u001b[38;5;250m \u001b[39m\u001b[38;5;28;01m_\u001b[39;00m:\n\u001b[1;32m    597\u001b[0m         \u001b[38;5;28;01mreturn\u001b[39;00m \u001b[38;5;28mself\u001b[39m\u001b[38;5;241m.\u001b[39mupdate(\n\u001b[1;32m    598\u001b[0m             key,\n\u001b[1;32m    599\u001b[0m             trace,\n\u001b[1;32m    600\u001b[0m             GenericProblem(Diff\u001b[38;5;241m.\u001b[39mno_change(trace\u001b[38;5;241m.\u001b[39mget_args()), update_problem),\n\u001b[1;32m    601\u001b[0m         )\n",
      "File \u001b[0;32m<@beartype(genjax._src.generative_functions.static.StaticGenerativeFunction.update_change_target) at 0x13a1cf1a0>:102\u001b[0m, in \u001b[0;36mupdate_change_target\u001b[0;34m(__beartype_object_4812026752, __beartype_get_violation, __beartype_conf, __beartype_object_4811089456, __beartype_object_4811053200, __beartype_object_4808340672, __beartype_object_4762702192, __beartype_object_4810830240, __beartype_func, *args, **kwargs)\u001b[0m\n",
      "File \u001b[0;32m~/.miniconda3/envs/genjax/lib/python3.12/site-packages/genjax/_src/generative_functions/static.py:560\u001b[0m, in \u001b[0;36mStaticGenerativeFunction.update_change_target\u001b[0;34m(self, key, trace, update_problem, argdiffs)\u001b[0m\n\u001b[1;32m    536\u001b[0m \u001b[38;5;129m@typecheck\u001b[39m\n\u001b[1;32m    537\u001b[0m \u001b[38;5;28;01mdef\u001b[39;00m \u001b[38;5;21mupdate_change_target\u001b[39m(\n\u001b[1;32m    538\u001b[0m     \u001b[38;5;28mself\u001b[39m,\n\u001b[0;32m   (...)\u001b[0m\n\u001b[1;32m    542\u001b[0m     argdiffs: Argdiffs,\n\u001b[1;32m    543\u001b[0m ) \u001b[38;5;241m-\u001b[39m\u001b[38;5;241m>\u001b[39m Tuple[Trace, Weight, Retdiff, UpdateProblem]:\n\u001b[1;32m    544\u001b[0m     syntax_sugar_handled \u001b[38;5;241m=\u001b[39m push_trace_overload_stack(\n\u001b[1;32m    545\u001b[0m         handler_trace_with_static, \u001b[38;5;28mself\u001b[39m\u001b[38;5;241m.\u001b[39msource\n\u001b[1;32m    546\u001b[0m     )\n\u001b[1;32m    547\u001b[0m     (\n\u001b[1;32m    548\u001b[0m         (\n\u001b[1;32m    549\u001b[0m             retval_diffs,\n\u001b[1;32m    550\u001b[0m             weight,\n\u001b[1;32m    551\u001b[0m             (\n\u001b[1;32m    552\u001b[0m                 arg_primals,\n\u001b[1;32m    553\u001b[0m                 retval_primals,\n\u001b[1;32m    554\u001b[0m                 address_visitor,\n\u001b[1;32m    555\u001b[0m                 address_traces,\n\u001b[1;32m    556\u001b[0m                 score,\n\u001b[1;32m    557\u001b[0m             ),\n\u001b[1;32m    558\u001b[0m             bwd_problems,\n\u001b[1;32m    559\u001b[0m         ),\n\u001b[0;32m--> 560\u001b[0m     ) \u001b[38;5;241m=\u001b[39m \u001b[43mupdate_transform\u001b[49m\u001b[43m(\u001b[49m\u001b[43msyntax_sugar_handled\u001b[49m\u001b[43m)\u001b[49m\u001b[43m(\u001b[49m\u001b[43mkey\u001b[49m\u001b[43m,\u001b[49m\u001b[43m \u001b[49m\u001b[43mtrace\u001b[49m\u001b[43m,\u001b[49m\u001b[43m \u001b[49m\u001b[43mupdate_problem\u001b[49m\u001b[43m,\u001b[49m\u001b[43m \u001b[49m\u001b[43margdiffs\u001b[49m\u001b[43m)\u001b[49m\n\u001b[1;32m    562\u001b[0m     \u001b[38;5;28;01mdef\u001b[39;00m \u001b[38;5;21mmake_bwd_problem\u001b[39m(visitor, subproblems):\n\u001b[1;32m    563\u001b[0m         addresses \u001b[38;5;241m=\u001b[39m visitor\u001b[38;5;241m.\u001b[39mget_visited()\n",
      "File \u001b[0;32m<@beartype(genjax._src.generative_functions.static.update_transform.wrapper) at 0x29ea2d4e0>:31\u001b[0m, in \u001b[0;36mwrapper\u001b[0;34m(__beartype_get_violation, __beartype_conf, __beartype_func, *args, **kwargs)\u001b[0m\n",
      "File \u001b[0;32m~/.miniconda3/envs/genjax/lib/python3.12/site-packages/genjax/_src/generative_functions/static.py:377\u001b[0m, in \u001b[0;36mupdate_transform.<locals>.wrapper\u001b[0;34m(key, previous_trace, constraints, diffs)\u001b[0m\n\u001b[1;32m    375\u001b[0m diff_primals \u001b[38;5;241m=\u001b[39m Diff\u001b[38;5;241m.\u001b[39mtree_primal(diffs)\n\u001b[1;32m    376\u001b[0m diff_tangents \u001b[38;5;241m=\u001b[39m Diff\u001b[38;5;241m.\u001b[39mtree_tangent(diffs)\n\u001b[0;32m--> 377\u001b[0m retval_diffs \u001b[38;5;241m=\u001b[39m \u001b[43mincremental\u001b[49m\u001b[43m(\u001b[49m\u001b[43msource_fn\u001b[49m\u001b[43m)\u001b[49m\u001b[43m(\u001b[49m\n\u001b[1;32m    378\u001b[0m \u001b[43m    \u001b[49m\u001b[43mstateful_handler\u001b[49m\u001b[43m,\u001b[49m\u001b[43m \u001b[49m\u001b[43mdiff_primals\u001b[49m\u001b[43m,\u001b[49m\u001b[43m \u001b[49m\u001b[43mdiff_tangents\u001b[49m\n\u001b[1;32m    379\u001b[0m \u001b[43m\u001b[49m\u001b[43m)\u001b[49m\n\u001b[1;32m    380\u001b[0m retval_primals \u001b[38;5;241m=\u001b[39m Diff\u001b[38;5;241m.\u001b[39mtree_primal(retval_diffs)\n\u001b[1;32m    381\u001b[0m (\n\u001b[1;32m    382\u001b[0m     score,\n\u001b[1;32m    383\u001b[0m     weight,\n\u001b[0;32m   (...)\u001b[0m\n\u001b[1;32m    386\u001b[0m     bwd_problems,\n\u001b[1;32m    387\u001b[0m ) \u001b[38;5;241m=\u001b[39m stateful_handler\u001b[38;5;241m.\u001b[39myield_state()\n",
      "File \u001b[0;32m<@beartype(genjax._src.core.interpreters.incremental.incremental.wrapped) at 0x29ea2d300>:73\u001b[0m, in \u001b[0;36mwrapped\u001b[0;34m(__beartype_object_4812023808, __beartype_get_violation, __beartype_conf, __beartype_func, *args, **kwargs)\u001b[0m\n",
      "File \u001b[0;32m~/.miniconda3/envs/genjax/lib/python3.12/site-packages/genjax/_src/core/interpreters/incremental.py:315\u001b[0m, in \u001b[0;36mincremental.<locals>.wrapped\u001b[0;34m(_stateful_handler, primals, tangents)\u001b[0m\n\u001b[1;32m    307\u001b[0m \u001b[38;5;129m@functools\u001b[39m\u001b[38;5;241m.\u001b[39mwraps(f)\n\u001b[1;32m    308\u001b[0m \u001b[38;5;129m@typecheck\u001b[39m\n\u001b[1;32m    309\u001b[0m \u001b[38;5;28;01mdef\u001b[39;00m \u001b[38;5;21mwrapped\u001b[39m(\n\u001b[0;32m   (...)\u001b[0m\n\u001b[1;32m    312\u001b[0m     tangents: Tuple,\n\u001b[1;32m    313\u001b[0m ):\n\u001b[1;32m    314\u001b[0m     interpreter \u001b[38;5;241m=\u001b[39m IncrementalInterpreter()\n\u001b[0;32m--> 315\u001b[0m     \u001b[38;5;28;01mreturn\u001b[39;00m \u001b[43minterpreter\u001b[49m\u001b[38;5;241;43m.\u001b[39;49m\u001b[43mrun_interpreter\u001b[49m\u001b[43m(\u001b[49m\n\u001b[1;32m    316\u001b[0m \u001b[43m        \u001b[49m\u001b[43m_stateful_handler\u001b[49m\u001b[43m,\u001b[49m\n\u001b[1;32m    317\u001b[0m \u001b[43m        \u001b[49m\u001b[43mf\u001b[49m\u001b[43m,\u001b[49m\n\u001b[1;32m    318\u001b[0m \u001b[43m        \u001b[49m\u001b[43mprimals\u001b[49m\u001b[43m,\u001b[49m\n\u001b[1;32m    319\u001b[0m \u001b[43m        \u001b[49m\u001b[43mtangents\u001b[49m\u001b[43m,\u001b[49m\n\u001b[1;32m    320\u001b[0m \u001b[43m    \u001b[49m\u001b[43m)\u001b[49m\n",
      "File \u001b[0;32m~/.miniconda3/envs/genjax/lib/python3.12/site-packages/genjax/_src/core/interpreters/incremental.py:290\u001b[0m, in \u001b[0;36mIncrementalInterpreter.run_interpreter\u001b[0;34m(self, _stateful_handler, fn, primals, tangents, **kwargs)\u001b[0m\n\u001b[1;32m    287\u001b[0m \u001b[38;5;28;01mdef\u001b[39;00m \u001b[38;5;21m_inner\u001b[39m(\u001b[38;5;241m*\u001b[39margs):\n\u001b[1;32m    288\u001b[0m     \u001b[38;5;28;01mreturn\u001b[39;00m fn(\u001b[38;5;241m*\u001b[39margs, \u001b[38;5;241m*\u001b[39m\u001b[38;5;241m*\u001b[39mkwargs)\n\u001b[0;32m--> 290\u001b[0m _closed_jaxpr, (flat_primals, _, out_tree) \u001b[38;5;241m=\u001b[39m \u001b[43mstage\u001b[49m\u001b[43m(\u001b[49m\u001b[43m_inner\u001b[49m\u001b[43m)\u001b[49m\u001b[43m(\u001b[49m\u001b[38;5;241;43m*\u001b[39;49m\u001b[43mprimals\u001b[49m\u001b[43m)\u001b[49m\n\u001b[1;32m    291\u001b[0m flat_tangents \u001b[38;5;241m=\u001b[39m jtu\u001b[38;5;241m.\u001b[39mtree_leaves(\n\u001b[1;32m    292\u001b[0m     tangents, is_leaf\u001b[38;5;241m=\u001b[39m\u001b[38;5;28;01mlambda\u001b[39;00m v: \u001b[38;5;28misinstance\u001b[39m(v, ChangeTangent)\n\u001b[1;32m    293\u001b[0m )\n\u001b[1;32m    294\u001b[0m _jaxpr, consts \u001b[38;5;241m=\u001b[39m _closed_jaxpr\u001b[38;5;241m.\u001b[39mjaxpr, _closed_jaxpr\u001b[38;5;241m.\u001b[39mliterals\n",
      "File \u001b[0;32m~/.miniconda3/envs/genjax/lib/python3.12/site-packages/genjax/_src/core/interpreters/staging.py:124\u001b[0m, in \u001b[0;36mstage.<locals>.wrapped\u001b[0;34m(*args, **kwargs)\u001b[0m\n\u001b[1;32m    122\u001b[0m flat_fun, out_tree \u001b[38;5;241m=\u001b[39m api_util\u001b[38;5;241m.\u001b[39mflatten_fun_nokwargs(fun, in_tree)\n\u001b[1;32m    123\u001b[0m flat_avals \u001b[38;5;241m=\u001b[39m safe_map(get_shaped_aval, flat_args)\n\u001b[0;32m--> 124\u001b[0m typed_jaxpr \u001b[38;5;241m=\u001b[39m \u001b[43mcached_stage_dynamic\u001b[49m\u001b[43m(\u001b[49m\u001b[43mflat_fun\u001b[49m\u001b[43m,\u001b[49m\u001b[43m \u001b[49m\u001b[38;5;28;43mtuple\u001b[39;49m\u001b[43m(\u001b[49m\u001b[43mflat_avals\u001b[49m\u001b[43m)\u001b[49m\u001b[43m)\u001b[49m\n\u001b[1;32m    125\u001b[0m \u001b[38;5;28;01mreturn\u001b[39;00m typed_jaxpr, (flat_args, in_tree, out_tree)\n",
      "    \u001b[0;31m[... skipping hidden 1 frame]\u001b[0m\n",
      "File \u001b[0;32m~/.miniconda3/envs/genjax/lib/python3.12/site-packages/genjax/_src/core/interpreters/staging.py:111\u001b[0m, in \u001b[0;36mcached_stage_dynamic\u001b[0;34m(flat_fun, in_avals)\u001b[0m\n\u001b[1;32m    109\u001b[0m \u001b[38;5;129m@lu\u001b[39m\u001b[38;5;241m.\u001b[39mcache\n\u001b[1;32m    110\u001b[0m \u001b[38;5;28;01mdef\u001b[39;00m \u001b[38;5;21mcached_stage_dynamic\u001b[39m(flat_fun, in_avals):\n\u001b[0;32m--> 111\u001b[0m     jaxpr, _, consts \u001b[38;5;241m=\u001b[39m \u001b[43mpe\u001b[49m\u001b[38;5;241;43m.\u001b[39;49m\u001b[43mtrace_to_jaxpr_dynamic\u001b[49m\u001b[43m(\u001b[49m\u001b[43mflat_fun\u001b[49m\u001b[43m,\u001b[49m\u001b[43m \u001b[49m\u001b[43min_avals\u001b[49m\u001b[43m)\u001b[49m\n\u001b[1;32m    112\u001b[0m     typed_jaxpr \u001b[38;5;241m=\u001b[39m jc\u001b[38;5;241m.\u001b[39mClosedJaxpr(jaxpr, consts)\n\u001b[1;32m    113\u001b[0m     \u001b[38;5;28;01mreturn\u001b[39;00m typed_jaxpr\n",
      "    \u001b[0;31m[... skipping hidden 5 frame]\u001b[0m\n",
      "File \u001b[0;32m~/.miniconda3/envs/genjax/lib/python3.12/site-packages/genjax/_src/core/interpreters/incremental.py:288\u001b[0m, in \u001b[0;36mIncrementalInterpreter.run_interpreter.<locals>._inner\u001b[0;34m(*args)\u001b[0m\n\u001b[1;32m    287\u001b[0m \u001b[38;5;28;01mdef\u001b[39;00m \u001b[38;5;21m_inner\u001b[39m(\u001b[38;5;241m*\u001b[39margs):\n\u001b[0;32m--> 288\u001b[0m     \u001b[38;5;28;01mreturn\u001b[39;00m \u001b[43mfn\u001b[49m\u001b[43m(\u001b[49m\u001b[38;5;241;43m*\u001b[39;49m\u001b[43margs\u001b[49m\u001b[43m,\u001b[49m\u001b[43m \u001b[49m\u001b[38;5;241;43m*\u001b[39;49m\u001b[38;5;241;43m*\u001b[39;49m\u001b[43mkwargs\u001b[49m\u001b[43m)\u001b[49m\n",
      "File \u001b[0;32m~/.miniconda3/envs/genjax/lib/python3.12/site-packages/genjax/_src/core/generative/core.py:1602\u001b[0m, in \u001b[0;36mpush_trace_overload_stack.<locals>.wrapped\u001b[0;34m(*args)\u001b[0m\n\u001b[1;32m   1600\u001b[0m \u001b[38;5;28;01mdef\u001b[39;00m \u001b[38;5;21mwrapped\u001b[39m(\u001b[38;5;241m*\u001b[39margs):\n\u001b[1;32m   1601\u001b[0m     GLOBAL_TRACE_OP_HANDLER_STACK\u001b[38;5;241m.\u001b[39mappend(handler)\n\u001b[0;32m-> 1602\u001b[0m     ret \u001b[38;5;241m=\u001b[39m \u001b[43mfn\u001b[49m\u001b[43m(\u001b[49m\u001b[38;5;241;43m*\u001b[39;49m\u001b[43margs\u001b[49m\u001b[43m)\u001b[49m\n\u001b[1;32m   1603\u001b[0m     GLOBAL_TRACE_OP_HANDLER_STACK\u001b[38;5;241m.\u001b[39mpop()\n\u001b[1;32m   1604\u001b[0m     \u001b[38;5;28;01mreturn\u001b[39;00m ret\n",
      "File \u001b[0;32m~/.miniconda3/envs/genjax/lib/python3.12/site-packages/genjax/_src/core/pytree.py:497\u001b[0m, in \u001b[0;36mClosure.__call__\u001b[0;34m(self, *args, **kwargs)\u001b[0m\n\u001b[1;32m    496\u001b[0m \u001b[38;5;28;01mdef\u001b[39;00m \u001b[38;5;21m__call__\u001b[39m(\u001b[38;5;28mself\u001b[39m, \u001b[38;5;241m*\u001b[39margs, \u001b[38;5;241m*\u001b[39m\u001b[38;5;241m*\u001b[39mkwargs):\n\u001b[0;32m--> 497\u001b[0m     \u001b[38;5;28;01mreturn\u001b[39;00m \u001b[38;5;28;43mself\u001b[39;49m\u001b[38;5;241;43m.\u001b[39;49m\u001b[43mfn\u001b[49m\u001b[43m(\u001b[49m\u001b[38;5;241;43m*\u001b[39;49m\u001b[38;5;28;43mself\u001b[39;49m\u001b[38;5;241;43m.\u001b[39;49m\u001b[43mdyn_args\u001b[49m\u001b[43m,\u001b[49m\u001b[43m \u001b[49m\u001b[38;5;241;43m*\u001b[39;49m\u001b[43margs\u001b[49m\u001b[43m,\u001b[49m\u001b[43m \u001b[49m\u001b[38;5;241;43m*\u001b[39;49m\u001b[38;5;241;43m*\u001b[39;49m\u001b[43mkwargs\u001b[49m\u001b[43m)\u001b[49m\n",
      "File \u001b[0;32m~/Research/ProbComp/Fireflies/maskcombinator_model.py:139\u001b[0m, in \u001b[0;36mmultifirefly_model\u001b[0;34m(max_fireflies, run_until)\u001b[0m\n\u001b[1;32m    137\u001b[0m \u001b[38;5;129m@gen\u001b[39m \n\u001b[1;32m    138\u001b[0m \u001b[38;5;28;01mdef\u001b[39;00m \u001b[38;5;21mmultifirefly_model\u001b[39m(max_fireflies, run_until): \n\u001b[0;32m--> 139\u001b[0m     n_fireflies \u001b[38;5;241m=\u001b[39m \u001b[43mlabcat\u001b[49m\u001b[43m(\u001b[49m\u001b[43municat\u001b[49m\u001b[43m(\u001b[49m\u001b[43mmax_fireflies\u001b[49m\u001b[43m)\u001b[49m\u001b[43m,\u001b[49m\u001b[43m \u001b[49m\u001b[43mmax_fireflies\u001b[49m\u001b[43m)\u001b[49m\u001b[43m \u001b[49m\u001b[38;5;241;43m@\u001b[39;49m\u001b[43m \u001b[49m\u001b[38;5;124;43m\"\u001b[39;49m\u001b[38;5;124;43mn_fireflies\u001b[39;49m\u001b[38;5;124;43m\"\u001b[39;49m\n\u001b[1;32m    140\u001b[0m     masks \u001b[38;5;241m=\u001b[39m jnp\u001b[38;5;241m.\u001b[39marray(max_fireflies \u001b[38;5;241m<\u001b[39m\u001b[38;5;241m=\u001b[39m n_fireflies)\n\u001b[1;32m    141\u001b[0m     init_states \u001b[38;5;241m=\u001b[39m init_firefly\u001b[38;5;241m.\u001b[39mmask()\u001b[38;5;241m.\u001b[39mvmap(in_axes\u001b[38;5;241m=\u001b[39m(\u001b[38;5;241m0\u001b[39m))(masks) \u001b[38;5;241m@\u001b[39m \u001b[38;5;124m\"\u001b[39m\u001b[38;5;124minit\u001b[39m\u001b[38;5;124m\"\u001b[39m\n",
      "File \u001b[0;32m~/.miniconda3/envs/genjax/lib/python3.12/site-packages/genjax/_src/core/generative/core.py:1658\u001b[0m, in \u001b[0;36mGenerativeFunctionClosure.__matmul__\u001b[0;34m(self, addr)\u001b[0m\n\u001b[1;32m   1652\u001b[0m     \u001b[38;5;28;01mreturn\u001b[39;00m handle_off_trace_stack(\n\u001b[1;32m   1653\u001b[0m         addr,\n\u001b[1;32m   1654\u001b[0m         maybe_kwarged_gen_fn,\n\u001b[1;32m   1655\u001b[0m         (\u001b[38;5;28mself\u001b[39m\u001b[38;5;241m.\u001b[39margs, \u001b[38;5;28mself\u001b[39m\u001b[38;5;241m.\u001b[39mkwargs),\n\u001b[1;32m   1656\u001b[0m     )\n\u001b[1;32m   1657\u001b[0m \u001b[38;5;28;01melse\u001b[39;00m:\n\u001b[0;32m-> 1658\u001b[0m     \u001b[38;5;28;01mreturn\u001b[39;00m \u001b[43mhandle_off_trace_stack\u001b[49m\u001b[43m(\u001b[49m\n\u001b[1;32m   1659\u001b[0m \u001b[43m        \u001b[49m\u001b[43maddr\u001b[49m\u001b[43m,\u001b[49m\n\u001b[1;32m   1660\u001b[0m \u001b[43m        \u001b[49m\u001b[38;5;28;43mself\u001b[39;49m\u001b[38;5;241;43m.\u001b[39;49m\u001b[43mgen_fn\u001b[49m\u001b[43m,\u001b[49m\n\u001b[1;32m   1661\u001b[0m \u001b[43m        \u001b[49m\u001b[38;5;28;43mself\u001b[39;49m\u001b[38;5;241;43m.\u001b[39;49m\u001b[43margs\u001b[49m\u001b[43m,\u001b[49m\n\u001b[1;32m   1662\u001b[0m \u001b[43m    \u001b[49m\u001b[43m)\u001b[49m\n",
      "File \u001b[0;32m~/.miniconda3/envs/genjax/lib/python3.12/site-packages/genjax/_src/core/generative/core.py:1592\u001b[0m, in \u001b[0;36mhandle_off_trace_stack\u001b[0;34m(addr, gen_fn, args)\u001b[0m\n\u001b[1;32m   1590\u001b[0m \u001b[38;5;28;01mif\u001b[39;00m GLOBAL_TRACE_OP_HANDLER_STACK:\n\u001b[1;32m   1591\u001b[0m     handler \u001b[38;5;241m=\u001b[39m GLOBAL_TRACE_OP_HANDLER_STACK[\u001b[38;5;241m-\u001b[39m\u001b[38;5;241m1\u001b[39m]\n\u001b[0;32m-> 1592\u001b[0m     \u001b[38;5;28;01mreturn\u001b[39;00m \u001b[43mhandler\u001b[49m\u001b[43m(\u001b[49m\u001b[43maddr\u001b[49m\u001b[43m,\u001b[49m\u001b[43m \u001b[49m\u001b[43mgen_fn\u001b[49m\u001b[43m,\u001b[49m\u001b[43m \u001b[49m\u001b[43margs\u001b[49m\u001b[43m)\u001b[49m\n\u001b[1;32m   1593\u001b[0m \u001b[38;5;28;01melse\u001b[39;00m:\n\u001b[1;32m   1594\u001b[0m     \u001b[38;5;28;01mraise\u001b[39;00m \u001b[38;5;167;01mException\u001b[39;00m(\n\u001b[1;32m   1595\u001b[0m         \u001b[38;5;124m\"\u001b[39m\u001b[38;5;124mAttempting to invoke trace outside of a tracing context.\u001b[39m\u001b[38;5;130;01m\\n\u001b[39;00m\u001b[38;5;124mIf you want to invoke the generative function closure, and recieve a return value,\u001b[39m\u001b[38;5;130;01m\\n\u001b[39;00m\u001b[38;5;124minvoke it with a key.\u001b[39m\u001b[38;5;124m\"\u001b[39m\n\u001b[1;32m   1596\u001b[0m     )\n",
      "File \u001b[0;32m<@beartype(genjax._src.generative_functions.static.handler_trace_with_static) at 0x13a1ced40>:91\u001b[0m, in \u001b[0;36mhandler_trace_with_static\u001b[0;34m(__beartype_getrandbits, __beartype_get_violation, __beartype_conf, __beartype_object_4811106928, __beartype_func, *args, **kwargs)\u001b[0m\n",
      "File \u001b[0;32m~/.miniconda3/envs/genjax/lib/python3.12/site-packages/genjax/_src/generative_functions/static.py:467\u001b[0m, in \u001b[0;36mhandler_trace_with_static\u001b[0;34m(addr, gen_fn, args)\u001b[0m\n\u001b[1;32m    461\u001b[0m \u001b[38;5;129m@typecheck\u001b[39m\n\u001b[1;32m    462\u001b[0m \u001b[38;5;28;01mdef\u001b[39;00m \u001b[38;5;21mhandler_trace_with_static\u001b[39m(\n\u001b[1;32m    463\u001b[0m     addr: StaticAddressComponent \u001b[38;5;241m|\u001b[39m StaticAddress,\n\u001b[1;32m    464\u001b[0m     gen_fn: GenerativeFunction,\n\u001b[1;32m    465\u001b[0m     args: Tuple,\n\u001b[1;32m    466\u001b[0m ):\n\u001b[0;32m--> 467\u001b[0m     \u001b[38;5;28;01mreturn\u001b[39;00m \u001b[43mtrace\u001b[49m\u001b[43m(\u001b[49m\u001b[43maddr\u001b[49m\u001b[43m \u001b[49m\u001b[38;5;28;43;01mif\u001b[39;49;00m\u001b[43m \u001b[49m\u001b[38;5;28;43misinstance\u001b[39;49m\u001b[43m(\u001b[49m\u001b[43maddr\u001b[49m\u001b[43m,\u001b[49m\u001b[43m \u001b[49m\u001b[38;5;28;43mtuple\u001b[39;49m\u001b[43m)\u001b[49m\u001b[43m \u001b[49m\u001b[38;5;28;43;01melse\u001b[39;49;00m\u001b[43m \u001b[49m\u001b[43m(\u001b[49m\u001b[43maddr\u001b[49m\u001b[43m,\u001b[49m\u001b[43m)\u001b[49m\u001b[43m,\u001b[49m\u001b[43m \u001b[49m\u001b[43mgen_fn\u001b[49m\u001b[43m,\u001b[49m\u001b[43m \u001b[49m\u001b[43margs\u001b[49m\u001b[43m)\u001b[49m\n",
      "File \u001b[0;32m<@beartype(genjax._src.generative_functions.static.trace) at 0x13a1cccc0>:89\u001b[0m, in \u001b[0;36mtrace\u001b[0;34m(__beartype_getrandbits, __beartype_get_violation, __beartype_conf, __beartype_object_4811106928, __beartype_func, *args, **kwargs)\u001b[0m\n",
      "File \u001b[0;32m~/.miniconda3/envs/genjax/lib/python3.12/site-packages/genjax/_src/generative_functions/static.py:178\u001b[0m, in \u001b[0;36mtrace\u001b[0;34m(addr, gen_fn, args)\u001b[0m\n\u001b[1;32m    170\u001b[0m \u001b[38;5;250m\u001b[39m\u001b[38;5;124;03m\"\"\"Invoke a generative function, binding its generative semantics with the current\u001b[39;00m\n\u001b[1;32m    171\u001b[0m \u001b[38;5;124;03mcaller.\u001b[39;00m\n\u001b[1;32m    172\u001b[0m \n\u001b[0;32m   (...)\u001b[0m\n\u001b[1;32m    175\u001b[0m \u001b[38;5;124;03m    gen_fn: A generative function invoked as a callee of `StaticGenerativeFunction`.\u001b[39;00m\n\u001b[1;32m    176\u001b[0m \u001b[38;5;124;03m\"\"\"\u001b[39;00m\n\u001b[1;32m    177\u001b[0m addr \u001b[38;5;241m=\u001b[39m Pytree\u001b[38;5;241m.\u001b[39mtree_const(addr)\n\u001b[0;32m--> 178\u001b[0m \u001b[38;5;28;01mreturn\u001b[39;00m \u001b[43minitial_style_bind\u001b[49m\u001b[43m(\u001b[49m\u001b[43mtrace_p\u001b[49m\u001b[43m)\u001b[49m\u001b[43m(\u001b[49m\u001b[43m_abstract_gen_fn_call\u001b[49m\u001b[43m)\u001b[49m\u001b[43m(\u001b[49m\n\u001b[1;32m    179\u001b[0m \u001b[43m    \u001b[49m\u001b[43maddr\u001b[49m\u001b[43m,\u001b[49m\n\u001b[1;32m    180\u001b[0m \u001b[43m    \u001b[49m\u001b[43mgen_fn\u001b[49m\u001b[43m,\u001b[49m\n\u001b[1;32m    181\u001b[0m \u001b[43m    \u001b[49m\u001b[43margs\u001b[49m\u001b[43m,\u001b[49m\n\u001b[1;32m    182\u001b[0m \u001b[43m\u001b[49m\u001b[43m)\u001b[49m\n",
      "File \u001b[0;32m~/.miniconda3/envs/genjax/lib/python3.12/site-packages/genjax/_src/core/interpreters/forward.py:121\u001b[0m, in \u001b[0;36minitial_style_bind.<locals>.bind.<locals>.wrapped\u001b[0;34m(*args, **kwargs)\u001b[0m\n\u001b[1;32m    119\u001b[0m \u001b[38;5;28;01mdef\u001b[39;00m \u001b[38;5;21mwrapped\u001b[39m(\u001b[38;5;241m*\u001b[39margs, \u001b[38;5;241m*\u001b[39m\u001b[38;5;241m*\u001b[39mkwargs):\n\u001b[1;32m    120\u001b[0m \u001b[38;5;250m    \u001b[39m\u001b[38;5;124;03m\"\"\"Runs a function and binds it to a call primitive.\"\"\"\u001b[39;00m\n\u001b[0;32m--> 121\u001b[0m     _jaxpr, (flat_args, in_tree, out_tree) \u001b[38;5;241m=\u001b[39m \u001b[43mstage\u001b[49m\u001b[43m(\u001b[49m\u001b[43mf\u001b[49m\u001b[43m)\u001b[49m\u001b[43m(\u001b[49m\u001b[38;5;241;43m*\u001b[39;49m\u001b[43margs\u001b[49m\u001b[43m,\u001b[49m\u001b[43m \u001b[49m\u001b[38;5;241;43m*\u001b[39;49m\u001b[38;5;241;43m*\u001b[39;49m\u001b[43mkwargs\u001b[49m\u001b[43m)\u001b[49m\n\u001b[1;32m    122\u001b[0m     outs \u001b[38;5;241m=\u001b[39m prim\u001b[38;5;241m.\u001b[39mbind(\n\u001b[1;32m    123\u001b[0m         \u001b[38;5;241m*\u001b[39mit\u001b[38;5;241m.\u001b[39mchain(_jaxpr\u001b[38;5;241m.\u001b[39mliterals, flat_args),\n\u001b[1;32m    124\u001b[0m         _jaxpr\u001b[38;5;241m=\u001b[39m_jaxpr\u001b[38;5;241m.\u001b[39mjaxpr,\n\u001b[0;32m   (...)\u001b[0m\n\u001b[1;32m    128\u001b[0m         \u001b[38;5;241m*\u001b[39m\u001b[38;5;241m*\u001b[39mparams,\n\u001b[1;32m    129\u001b[0m     )\n\u001b[1;32m    130\u001b[0m     \u001b[38;5;28;01mreturn\u001b[39;00m tree_util\u001b[38;5;241m.\u001b[39mtree_unflatten(out_tree(), outs)\n",
      "File \u001b[0;32m~/.miniconda3/envs/genjax/lib/python3.12/site-packages/genjax/_src/core/interpreters/staging.py:124\u001b[0m, in \u001b[0;36mstage.<locals>.wrapped\u001b[0;34m(*args, **kwargs)\u001b[0m\n\u001b[1;32m    122\u001b[0m flat_fun, out_tree \u001b[38;5;241m=\u001b[39m api_util\u001b[38;5;241m.\u001b[39mflatten_fun_nokwargs(fun, in_tree)\n\u001b[1;32m    123\u001b[0m flat_avals \u001b[38;5;241m=\u001b[39m safe_map(get_shaped_aval, flat_args)\n\u001b[0;32m--> 124\u001b[0m typed_jaxpr \u001b[38;5;241m=\u001b[39m \u001b[43mcached_stage_dynamic\u001b[49m\u001b[43m(\u001b[49m\u001b[43mflat_fun\u001b[49m\u001b[43m,\u001b[49m\u001b[43m \u001b[49m\u001b[38;5;28;43mtuple\u001b[39;49m\u001b[43m(\u001b[49m\u001b[43mflat_avals\u001b[49m\u001b[43m)\u001b[49m\u001b[43m)\u001b[49m\n\u001b[1;32m    125\u001b[0m \u001b[38;5;28;01mreturn\u001b[39;00m typed_jaxpr, (flat_args, in_tree, out_tree)\n",
      "    \u001b[0;31m[... skipping hidden 1 frame]\u001b[0m\n",
      "File \u001b[0;32m~/.miniconda3/envs/genjax/lib/python3.12/site-packages/genjax/_src/core/interpreters/staging.py:111\u001b[0m, in \u001b[0;36mcached_stage_dynamic\u001b[0;34m(flat_fun, in_avals)\u001b[0m\n\u001b[1;32m    109\u001b[0m \u001b[38;5;129m@lu\u001b[39m\u001b[38;5;241m.\u001b[39mcache\n\u001b[1;32m    110\u001b[0m \u001b[38;5;28;01mdef\u001b[39;00m \u001b[38;5;21mcached_stage_dynamic\u001b[39m(flat_fun, in_avals):\n\u001b[0;32m--> 111\u001b[0m     jaxpr, _, consts \u001b[38;5;241m=\u001b[39m \u001b[43mpe\u001b[49m\u001b[38;5;241;43m.\u001b[39;49m\u001b[43mtrace_to_jaxpr_dynamic\u001b[49m\u001b[43m(\u001b[49m\u001b[43mflat_fun\u001b[49m\u001b[43m,\u001b[49m\u001b[43m \u001b[49m\u001b[43min_avals\u001b[49m\u001b[43m)\u001b[49m\n\u001b[1;32m    112\u001b[0m     typed_jaxpr \u001b[38;5;241m=\u001b[39m jc\u001b[38;5;241m.\u001b[39mClosedJaxpr(jaxpr, consts)\n\u001b[1;32m    113\u001b[0m     \u001b[38;5;28;01mreturn\u001b[39;00m typed_jaxpr\n",
      "    \u001b[0;31m[... skipping hidden 5 frame]\u001b[0m\n",
      "File \u001b[0;32m~/.miniconda3/envs/genjax/lib/python3.12/site-packages/genjax/_src/generative_functions/static.py:161\u001b[0m, in \u001b[0;36m_abstract_gen_fn_call\u001b[0;34m(_, gen_fn, args)\u001b[0m\n\u001b[1;32m    156\u001b[0m \u001b[38;5;28;01mdef\u001b[39;00m \u001b[38;5;21m_abstract_gen_fn_call\u001b[39m(\n\u001b[1;32m    157\u001b[0m     _: Address,\n\u001b[1;32m    158\u001b[0m     gen_fn: GenerativeFunction,\n\u001b[1;32m    159\u001b[0m     args: Tuple,\n\u001b[1;32m    160\u001b[0m ):\n\u001b[0;32m--> 161\u001b[0m     \u001b[38;5;28;01mreturn\u001b[39;00m \u001b[43mgen_fn\u001b[49m\u001b[38;5;241;43m.\u001b[39;49m\u001b[43m__abstract_call__\u001b[49m\u001b[43m(\u001b[49m\u001b[38;5;241;43m*\u001b[39;49m\u001b[43margs\u001b[49m\u001b[43m)\u001b[49m\n",
      "File \u001b[0;32m~/.miniconda3/envs/genjax/lib/python3.12/site-packages/genjax/_src/generative_functions/distributions/distribution.py:497\u001b[0m, in \u001b[0;36mExactDensity.__abstract_call__\u001b[0;34m(self, *args)\u001b[0m\n\u001b[1;32m    495\u001b[0m \u001b[38;5;28;01mdef\u001b[39;00m \u001b[38;5;21m__abstract_call__\u001b[39m(\u001b[38;5;28mself\u001b[39m, \u001b[38;5;241m*\u001b[39margs):\n\u001b[1;32m    496\u001b[0m     key \u001b[38;5;241m=\u001b[39m jax\u001b[38;5;241m.\u001b[39mrandom\u001b[38;5;241m.\u001b[39mPRNGKey(\u001b[38;5;241m0\u001b[39m)\n\u001b[0;32m--> 497\u001b[0m     \u001b[38;5;28;01mreturn\u001b[39;00m \u001b[38;5;28;43mself\u001b[39;49m\u001b[38;5;241;43m.\u001b[39;49m\u001b[43msample\u001b[49m\u001b[43m(\u001b[49m\u001b[43mkey\u001b[49m\u001b[43m,\u001b[49m\u001b[43m \u001b[49m\u001b[38;5;241;43m*\u001b[39;49m\u001b[43margs\u001b[49m\u001b[43m)\u001b[49m\n",
      "File \u001b[0;32m~/Research/ProbComp/Fireflies/distributions.py:14\u001b[0m, in \u001b[0;36mLabeledCategorical.sample\u001b[0;34m(self, key, probs, labels, **kwargs)\u001b[0m\n\u001b[1;32m     12\u001b[0m cat \u001b[38;5;241m=\u001b[39m tfd\u001b[38;5;241m.\u001b[39mCategorical(probs\u001b[38;5;241m=\u001b[39mnormalize(probs))\n\u001b[1;32m     13\u001b[0m cat_index \u001b[38;5;241m=\u001b[39m cat\u001b[38;5;241m.\u001b[39msample(seed\u001b[38;5;241m=\u001b[39mkey)\n\u001b[0;32m---> 14\u001b[0m \u001b[38;5;28;01mreturn\u001b[39;00m \u001b[43mlabels\u001b[49m\u001b[43m[\u001b[49m\u001b[43mcat_index\u001b[49m\u001b[43m]\u001b[49m\n",
      "    \u001b[0;31m[... skipping hidden 1 frame]\u001b[0m\n",
      "File \u001b[0;32m~/.miniconda3/envs/genjax/lib/python3.12/site-packages/jax/_src/core.py:1531\u001b[0m, in \u001b[0;36mconcretization_function_error.<locals>.error\u001b[0;34m(self, arg)\u001b[0m\n\u001b[1;32m   1530\u001b[0m \u001b[38;5;28;01mdef\u001b[39;00m \u001b[38;5;21merror\u001b[39m(\u001b[38;5;28mself\u001b[39m, arg):\n\u001b[0;32m-> 1531\u001b[0m   \u001b[38;5;28;01mraise\u001b[39;00m TracerIntegerConversionError(arg)\n",
      "\u001b[0;31mTracerIntegerConversionError\u001b[0m: The __index__() method was called on traced array with shape int32[]\nSee https://jax.readthedocs.io/en/latest/errors.html#jax.errors.TracerIntegerConversionError"
     ]
    }
   ],
   "source": [
    "max_fireflies = jnp.arange(1, 5)\n",
    "key = jax.random.PRNGKey(101)\n",
    "key, subkey = jax.random.split(key)\n",
    "gt_trace = jax.jit(multifirefly_model.simulate)(subkey, (max_fireflies, TIME_STEPS)).get_sample()\n",
    "\n",
    "masked_model = multifirefly_model\n",
    "num_particles = 100\n",
    "step_init_args = (max_fireflies, 1,)\n",
    "smc_sampler = make_sequential_monte_carlo_sampler(masked_model, gt_trace, num_particles, num_steps=100)\n",
    "key, smc_key = jax.random.split(key)\n",
    "smc_particles = jax.jit(smc_sampler)(smc_key, step_init_args)"
   ]
  },
  {
   "cell_type": "code",
   "execution_count": null,
   "metadata": {},
   "outputs": [],
   "source": []
  }
 ],
 "metadata": {
  "kernelspec": {
   "display_name": "genjax",
   "language": "python",
   "name": "python3"
  },
  "language_info": {
   "codemirror_mode": {
    "name": "ipython",
    "version": 3
   },
   "file_extension": ".py",
   "mimetype": "text/x-python",
   "name": "python",
   "nbconvert_exporter": "python",
   "pygments_lexer": "ipython3",
   "version": "3.12.3"
  }
 },
 "nbformat": 4,
 "nbformat_minor": 2
}
