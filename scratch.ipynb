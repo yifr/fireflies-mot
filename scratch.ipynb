{
 "cells": [
  {
   "cell_type": "code",
   "execution_count": 3,
   "metadata": {},
   "outputs": [],
   "source": [
    "import jax.numpy as jnp\n",
    "from genjax import ExactDensity, Pytree\n",
    "from tensorflow_probability.substrates import jax as tfp\n",
    "tfd = tfp.distributions\n",
    "    \n",
    "\"\"\" Distribution Utilities \"\"\" \n",
    "\n",
    "unicat = lambda x: jnp.ones(len(x)) / len(x)\n",
    "normalize = lambda x: x / jnp.sum(x)\n",
    "\n",
    "\"\"\" Define Distributions \"\"\"\n",
    "\n",
    "@Pytree.dataclass\n",
    "class LabeledCategorical(ExactDensity):\n",
    "    def sample(self, key, probs, labels, **kwargs):\n",
    "        cat = tfd.Categorical(probs=normalize(probs))\n",
    "        cat_index = cat.sample(seed=key)\n",
    "        return labels[cat_index]\n",
    "\n",
    "    def logpdf(self, v, probs, labels, **kwargs):\n",
    "        w = jnp.log(jnp.sum(normalize(probs) * (labels==v)))\n",
    "        return w\n",
    "\n",
    "@Pytree.dataclass\n",
    "class UniformCategorical(ExactDensity):\n",
    "    def sample(self, key, labels, **kwargs):\n",
    "        cat = tfd.Categorical(probs=jnp.ones(len(labels)) / len(labels))\n",
    "        cat_index = cat.sample(seed=key)\n",
    "        return labels[cat_index]\n",
    "\n",
    "    def logpdf(self, v, labels, **kwargs):\n",
    "        probs = jnp.ones(len(labels)) / len(labels)\n",
    "        logpdf = jnp.log(probs)\n",
    "        w = logpdf[0]\n",
    "        return w\n",
    "    \n",
    "labcat = LabeledCategorical()\n",
    "uniformcat = UniformCategorical()"
   ]
  },
  {
   "cell_type": "code",
   "execution_count": 13,
   "metadata": {},
   "outputs": [],
   "source": [
    "import jax\n",
    "import chex\n",
    "import jax.numpy as jnp\n",
    "import genjax\n",
    "from genjax import gen, Mask\n",
    "from genjax import ChoiceMapBuilder as C\n",
    "genjax.pretty()\n",
    "\n",
    "# @chex.dataclass(frozen=True)\n",
    "# class FireflyState:\n",
    "#     sigma_x : float\n",
    "#     sigma_y : float\n",
    "#     motion_var_x : float\n",
    "#     motion_var_y : float\n",
    "#     scene_size : int = None\n",
    "#     max_fireflies_arr : jnp.ndarray\n",
    "#     n_fireflies : int = None\n",
    "#     masked_fireflies : Mask = None\n",
    "\n",
    "\n",
    "@gen\n",
    "def sample_firefly_init(scene_size):\n",
    "    spatial_range = jnp.arange(1, scene_size)\n",
    "    init_x = labcat(unicat(spatial_range), spatial_range) @ f\"init_x\"\n",
    "    init_y = labcat(unicat(spatial_range), spatial_range) @ f\"init_y\"\n",
    "    blink_rate = genjax.uniform(0.1,0.25) @ f\"blink_rate\"\n",
    "    return (init_x, init_y, blink_rate)\n",
    "\n",
    "sample_firefly_init_masked = genjax.MaskCombinator(sample_firefly_init)\n",
    "sample_firefly_init_masked_map = jax.vmap(sample_firefly_init_masked.simulate, in_axes=(0, None))\n",
    "\n",
    "@gen\n",
    "def initialize_fireflies(scene_size, max_fireflies, steps_arr):\n",
    "    max_fireflies_arr = jnp.arange(1, max_fireflies)\n",
    "    n_fireflies = labcat(unicat(max_fireflies_arr), max_fireflies_arr) @ \"n_fireflies\"\n",
    "    masked_fireflies = sample_firefly_init_masked_map(\n",
    "        max_fireflies_arr < n_fireflies,\n",
    "        scene_size\n",
    "    ) @ \"fireflies\" \n",
    "    \n",
    "    return masked_fireflies"
   ]
  },
  {
   "cell_type": "code",
   "execution_count": 14,
   "metadata": {},
   "outputs": [
    {
     "ename": "ConcretizationTypeError",
     "evalue": "Abstract tracer value encountered where concrete value is expected: traced array with shape int32[3]\nIt arose in the jnp.arange argument 'stop'\n\nSee https://jax.readthedocs.io/en/latest/errors.html#jax.errors.ConcretizationTypeError",
     "output_type": "error",
     "traceback": [
      "\u001b[0;31m---------------------------------------------------------------------------\u001b[0m",
      "\u001b[0;31mConcretizationTypeError\u001b[0m                   Traceback (most recent call last)",
      "Cell \u001b[0;32mIn[14], line 2\u001b[0m\n\u001b[1;32m      1\u001b[0m key \u001b[38;5;241m=\u001b[39m jax\u001b[38;5;241m.\u001b[39mrandom\u001b[38;5;241m.\u001b[39mPRNGKey(\u001b[38;5;241m423234\u001b[39m)\n\u001b[0;32m----> 2\u001b[0m \u001b[43minitialize_fireflies\u001b[49m\u001b[38;5;241;43m.\u001b[39;49m\u001b[43msimulate\u001b[49m\u001b[43m(\u001b[49m\u001b[43mkey\u001b[49m\u001b[43m,\u001b[49m\u001b[43m \u001b[49m\u001b[43m(\u001b[49m\u001b[43mjnp\u001b[49m\u001b[38;5;241;43m.\u001b[39;49m\u001b[43mzeros\u001b[49m\u001b[43m(\u001b[49m\u001b[38;5;241;43m64\u001b[39;49m\u001b[43m)\u001b[49m\u001b[43m,\u001b[49m\u001b[43m \u001b[49m\u001b[43mjnp\u001b[49m\u001b[38;5;241;43m.\u001b[39;49m\u001b[43marange\u001b[49m\u001b[43m(\u001b[49m\u001b[38;5;241;43m1\u001b[39;49m\u001b[43m,\u001b[49m\u001b[38;5;241;43m4\u001b[39;49m\u001b[43m)\u001b[49m\u001b[43m,\u001b[49m\u001b[43m \u001b[49m\u001b[38;5;28;43;01mNone\u001b[39;49;00m\u001b[43m)\u001b[49m\u001b[43m)\u001b[49m\n",
      "File \u001b[0;32m<@beartype(genjax._src.generative_functions.static.StaticGenerativeFunction.simulate) at 0x127b00400>:55\u001b[0m, in \u001b[0;36msimulate\u001b[0;34m(__beartype_object_4835110400, __beartype_get_violation, __beartype_conf, __beartype_object_4957979376, __beartype_func, *args, **kwargs)\u001b[0m\n",
      "    \u001b[0;31m[... skipping hidden 1 frame]\u001b[0m\n",
      "File \u001b[0;32m~/.miniconda3/envs/genjax/lib/python3.12/site-packages/genjax/_src/generative_functions/static.py:523\u001b[0m, in \u001b[0;36mStaticGenerativeFunction.simulate\u001b[0;34m(self, key, args)\u001b[0m\n\u001b[1;32m    513\u001b[0m \u001b[38;5;129m@typecheck\u001b[39m\n\u001b[1;32m    514\u001b[0m \u001b[38;5;129m@GenerativeFunction\u001b[39m\u001b[38;5;241m.\u001b[39mgfi_boundary\n\u001b[1;32m    515\u001b[0m \u001b[38;5;28;01mdef\u001b[39;00m \u001b[38;5;21msimulate\u001b[39m(\n\u001b[0;32m   (...)\u001b[0m\n\u001b[1;32m    518\u001b[0m     args: Tuple,\n\u001b[1;32m    519\u001b[0m ) \u001b[38;5;241m-\u001b[39m\u001b[38;5;241m>\u001b[39m StaticTrace:\n\u001b[1;32m    520\u001b[0m     syntax_sugar_handled \u001b[38;5;241m=\u001b[39m push_trace_overload_stack(\n\u001b[1;32m    521\u001b[0m         handler_trace_with_static, \u001b[38;5;28mself\u001b[39m\u001b[38;5;241m.\u001b[39msource\n\u001b[1;32m    522\u001b[0m     )\n\u001b[0;32m--> 523\u001b[0m     (args, retval, address_visitor, address_traces, score) \u001b[38;5;241m=\u001b[39m \u001b[43msimulate_transform\u001b[49m\u001b[43m(\u001b[49m\n\u001b[1;32m    524\u001b[0m \u001b[43m        \u001b[49m\u001b[43msyntax_sugar_handled\u001b[49m\n\u001b[1;32m    525\u001b[0m \u001b[43m    \u001b[49m\u001b[43m)\u001b[49m\u001b[43m(\u001b[49m\u001b[43mkey\u001b[49m\u001b[43m,\u001b[49m\u001b[43m \u001b[49m\u001b[43margs\u001b[49m\u001b[43m)\u001b[49m\n\u001b[1;32m    526\u001b[0m     \u001b[38;5;28;01mreturn\u001b[39;00m StaticTrace(\n\u001b[1;32m    527\u001b[0m         \u001b[38;5;28mself\u001b[39m,\n\u001b[1;32m    528\u001b[0m         args,\n\u001b[0;32m   (...)\u001b[0m\n\u001b[1;32m    532\u001b[0m         score,\n\u001b[1;32m    533\u001b[0m     )\n",
      "File \u001b[0;32m~/.miniconda3/envs/genjax/lib/python3.12/site-packages/genjax/_src/generative_functions/static.py:273\u001b[0m, in \u001b[0;36msimulate_transform.<locals>.wrapper\u001b[0;34m(key, args)\u001b[0m\n\u001b[1;32m    270\u001b[0m \u001b[38;5;129m@functools\u001b[39m\u001b[38;5;241m.\u001b[39mwraps(source_fn)\n\u001b[1;32m    271\u001b[0m \u001b[38;5;28;01mdef\u001b[39;00m \u001b[38;5;21mwrapper\u001b[39m(key, args):\n\u001b[1;32m    272\u001b[0m     stateful_handler \u001b[38;5;241m=\u001b[39m SimulateHandler(key)\n\u001b[0;32m--> 273\u001b[0m     retval \u001b[38;5;241m=\u001b[39m \u001b[43mforward\u001b[49m\u001b[43m(\u001b[49m\u001b[43msource_fn\u001b[49m\u001b[43m)\u001b[49m\u001b[43m(\u001b[49m\u001b[43mstateful_handler\u001b[49m\u001b[43m,\u001b[49m\u001b[43m \u001b[49m\u001b[38;5;241;43m*\u001b[39;49m\u001b[43margs\u001b[49m\u001b[43m)\u001b[49m\n\u001b[1;32m    274\u001b[0m     (\n\u001b[1;32m    275\u001b[0m         address_visitor,\n\u001b[1;32m    276\u001b[0m         address_traces,\n\u001b[1;32m    277\u001b[0m         score,\n\u001b[1;32m    278\u001b[0m     ) \u001b[38;5;241m=\u001b[39m stateful_handler\u001b[38;5;241m.\u001b[39myield_state()\n\u001b[1;32m    279\u001b[0m     \u001b[38;5;28;01mreturn\u001b[39;00m (\n\u001b[1;32m    280\u001b[0m         args,\n\u001b[1;32m    281\u001b[0m         retval,\n\u001b[0;32m   (...)\u001b[0m\n\u001b[1;32m    284\u001b[0m         score,\n\u001b[1;32m    285\u001b[0m     )\n",
      "File \u001b[0;32m<@beartype(genjax._src.core.interpreters.forward.forward.wrapped) at 0x131542d40>:32\u001b[0m, in \u001b[0;36mwrapped\u001b[0;34m(__beartype_object_4687585584, __beartype_get_violation, __beartype_conf, __beartype_func, *args, **kwargs)\u001b[0m\n",
      "File \u001b[0;32m~/.miniconda3/envs/genjax/lib/python3.12/site-packages/genjax/_src/core/interpreters/forward.py:257\u001b[0m, in \u001b[0;36mforward.<locals>.wrapped\u001b[0;34m(stateful_handler, *args)\u001b[0m\n\u001b[1;32m    253\u001b[0m \u001b[38;5;129m@functools\u001b[39m\u001b[38;5;241m.\u001b[39mwraps(f)\n\u001b[1;32m    254\u001b[0m \u001b[38;5;129m@typecheck\u001b[39m\n\u001b[1;32m    255\u001b[0m \u001b[38;5;28;01mdef\u001b[39;00m \u001b[38;5;21mwrapped\u001b[39m(stateful_handler: StatefulHandler, \u001b[38;5;241m*\u001b[39margs):\n\u001b[1;32m    256\u001b[0m     interpreter \u001b[38;5;241m=\u001b[39m ForwardInterpreter()\n\u001b[0;32m--> 257\u001b[0m     \u001b[38;5;28;01mreturn\u001b[39;00m \u001b[43minterpreter\u001b[49m\u001b[38;5;241;43m.\u001b[39;49m\u001b[43mrun_interpreter\u001b[49m\u001b[43m(\u001b[49m\n\u001b[1;32m    258\u001b[0m \u001b[43m        \u001b[49m\u001b[43mstateful_handler\u001b[49m\u001b[43m,\u001b[49m\n\u001b[1;32m    259\u001b[0m \u001b[43m        \u001b[49m\u001b[43mf\u001b[49m\u001b[43m,\u001b[49m\n\u001b[1;32m    260\u001b[0m \u001b[43m        \u001b[49m\u001b[38;5;241;43m*\u001b[39;49m\u001b[43margs\u001b[49m\u001b[43m,\u001b[49m\n\u001b[1;32m    261\u001b[0m \u001b[43m    \u001b[49m\u001b[43m)\u001b[49m\n",
      "File \u001b[0;32m~/.miniconda3/envs/genjax/lib/python3.12/site-packages/genjax/_src/core/interpreters/forward.py:240\u001b[0m, in \u001b[0;36mForwardInterpreter.run_interpreter\u001b[0;34m(self, stateful_handler, fn, *args, **kwargs)\u001b[0m\n\u001b[1;32m    237\u001b[0m \u001b[38;5;28;01mdef\u001b[39;00m \u001b[38;5;21m_inner\u001b[39m(\u001b[38;5;241m*\u001b[39margs):\n\u001b[1;32m    238\u001b[0m     \u001b[38;5;28;01mreturn\u001b[39;00m fn(\u001b[38;5;241m*\u001b[39margs, \u001b[38;5;241m*\u001b[39m\u001b[38;5;241m*\u001b[39mkwargs)\n\u001b[0;32m--> 240\u001b[0m _closed_jaxpr, (flat_args, _, out_tree) \u001b[38;5;241m=\u001b[39m \u001b[43mstage\u001b[49m\u001b[43m(\u001b[49m\u001b[43m_inner\u001b[49m\u001b[43m)\u001b[49m\u001b[43m(\u001b[49m\u001b[38;5;241;43m*\u001b[39;49m\u001b[43margs\u001b[49m\u001b[43m)\u001b[49m\n\u001b[1;32m    241\u001b[0m _jaxpr, consts \u001b[38;5;241m=\u001b[39m _closed_jaxpr\u001b[38;5;241m.\u001b[39mjaxpr, _closed_jaxpr\u001b[38;5;241m.\u001b[39mliterals\n\u001b[1;32m    242\u001b[0m flat_out \u001b[38;5;241m=\u001b[39m \u001b[38;5;28mself\u001b[39m\u001b[38;5;241m.\u001b[39m_eval_jaxpr_forward(\n\u001b[1;32m    243\u001b[0m     stateful_handler,\n\u001b[1;32m    244\u001b[0m     _jaxpr,\n\u001b[1;32m    245\u001b[0m     consts,\n\u001b[1;32m    246\u001b[0m     flat_args,\n\u001b[1;32m    247\u001b[0m )\n",
      "File \u001b[0;32m~/.miniconda3/envs/genjax/lib/python3.12/site-packages/genjax/_src/core/interpreters/staging.py:125\u001b[0m, in \u001b[0;36mstage.<locals>.wrapped\u001b[0;34m(*args, **kwargs)\u001b[0m\n\u001b[1;32m    123\u001b[0m flat_fun, out_tree \u001b[38;5;241m=\u001b[39m api_util\u001b[38;5;241m.\u001b[39mflatten_fun_nokwargs(fun, in_tree)\n\u001b[1;32m    124\u001b[0m flat_avals \u001b[38;5;241m=\u001b[39m safe_map(get_shaped_aval, flat_args)\n\u001b[0;32m--> 125\u001b[0m typed_jaxpr \u001b[38;5;241m=\u001b[39m \u001b[43mcached_stage_dynamic\u001b[49m\u001b[43m(\u001b[49m\u001b[43mflat_fun\u001b[49m\u001b[43m,\u001b[49m\u001b[43m \u001b[49m\u001b[38;5;28;43mtuple\u001b[39;49m\u001b[43m(\u001b[49m\u001b[43mflat_avals\u001b[49m\u001b[43m)\u001b[49m\u001b[43m)\u001b[49m\n\u001b[1;32m    126\u001b[0m \u001b[38;5;28;01mreturn\u001b[39;00m typed_jaxpr, (flat_args, in_tree, out_tree)\n",
      "    \u001b[0;31m[... skipping hidden 1 frame]\u001b[0m\n",
      "File \u001b[0;32m~/.miniconda3/envs/genjax/lib/python3.12/site-packages/genjax/_src/core/interpreters/staging.py:112\u001b[0m, in \u001b[0;36mcached_stage_dynamic\u001b[0;34m(flat_fun, in_avals)\u001b[0m\n\u001b[1;32m    110\u001b[0m \u001b[38;5;129m@lu\u001b[39m\u001b[38;5;241m.\u001b[39mcache\n\u001b[1;32m    111\u001b[0m \u001b[38;5;28;01mdef\u001b[39;00m \u001b[38;5;21mcached_stage_dynamic\u001b[39m(flat_fun, in_avals):\n\u001b[0;32m--> 112\u001b[0m     jaxpr, _, consts \u001b[38;5;241m=\u001b[39m \u001b[43mpe\u001b[49m\u001b[38;5;241;43m.\u001b[39;49m\u001b[43mtrace_to_jaxpr_dynamic\u001b[49m\u001b[43m(\u001b[49m\u001b[43mflat_fun\u001b[49m\u001b[43m,\u001b[49m\u001b[43m \u001b[49m\u001b[43min_avals\u001b[49m\u001b[43m)\u001b[49m\n\u001b[1;32m    113\u001b[0m     typed_jaxpr \u001b[38;5;241m=\u001b[39m jc\u001b[38;5;241m.\u001b[39mClosedJaxpr(jaxpr, consts)\n\u001b[1;32m    114\u001b[0m     \u001b[38;5;28;01mreturn\u001b[39;00m typed_jaxpr\n",
      "    \u001b[0;31m[... skipping hidden 5 frame]\u001b[0m\n",
      "File \u001b[0;32m~/.miniconda3/envs/genjax/lib/python3.12/site-packages/genjax/_src/core/interpreters/forward.py:238\u001b[0m, in \u001b[0;36mForwardInterpreter.run_interpreter.<locals>._inner\u001b[0;34m(*args)\u001b[0m\n\u001b[1;32m    237\u001b[0m \u001b[38;5;28;01mdef\u001b[39;00m \u001b[38;5;21m_inner\u001b[39m(\u001b[38;5;241m*\u001b[39margs):\n\u001b[0;32m--> 238\u001b[0m     \u001b[38;5;28;01mreturn\u001b[39;00m \u001b[43mfn\u001b[49m\u001b[43m(\u001b[49m\u001b[38;5;241;43m*\u001b[39;49m\u001b[43margs\u001b[49m\u001b[43m,\u001b[49m\u001b[43m \u001b[49m\u001b[38;5;241;43m*\u001b[39;49m\u001b[38;5;241;43m*\u001b[39;49m\u001b[43mkwargs\u001b[49m\u001b[43m)\u001b[49m\n",
      "File \u001b[0;32m~/.miniconda3/envs/genjax/lib/python3.12/site-packages/genjax/_src/core/generative/core.py:853\u001b[0m, in \u001b[0;36mpush_trace_overload_stack.<locals>.wrapped\u001b[0;34m(*args)\u001b[0m\n\u001b[1;32m    851\u001b[0m \u001b[38;5;28;01mdef\u001b[39;00m \u001b[38;5;21mwrapped\u001b[39m(\u001b[38;5;241m*\u001b[39margs):\n\u001b[1;32m    852\u001b[0m     GLOBAL_TRACE_OP_HANDLER_STACK\u001b[38;5;241m.\u001b[39mappend(handler)\n\u001b[0;32m--> 853\u001b[0m     ret \u001b[38;5;241m=\u001b[39m \u001b[43mfn\u001b[49m\u001b[43m(\u001b[49m\u001b[38;5;241;43m*\u001b[39;49m\u001b[43margs\u001b[49m\u001b[43m)\u001b[49m\n\u001b[1;32m    854\u001b[0m     GLOBAL_TRACE_OP_HANDLER_STACK\u001b[38;5;241m.\u001b[39mpop()\n\u001b[1;32m    855\u001b[0m     \u001b[38;5;28;01mreturn\u001b[39;00m ret\n",
      "File \u001b[0;32m~/.miniconda3/envs/genjax/lib/python3.12/site-packages/genjax/_src/core/pytree.py:474\u001b[0m, in \u001b[0;36mClosure.__call__\u001b[0;34m(self, *args, **kwargs)\u001b[0m\n\u001b[1;32m    473\u001b[0m \u001b[38;5;28;01mdef\u001b[39;00m \u001b[38;5;21m__call__\u001b[39m(\u001b[38;5;28mself\u001b[39m, \u001b[38;5;241m*\u001b[39margs, \u001b[38;5;241m*\u001b[39m\u001b[38;5;241m*\u001b[39mkwargs):\n\u001b[0;32m--> 474\u001b[0m     \u001b[38;5;28;01mreturn\u001b[39;00m \u001b[38;5;28;43mself\u001b[39;49m\u001b[38;5;241;43m.\u001b[39;49m\u001b[43mfn\u001b[49m\u001b[43m(\u001b[49m\u001b[38;5;241;43m*\u001b[39;49m\u001b[38;5;28;43mself\u001b[39;49m\u001b[38;5;241;43m.\u001b[39;49m\u001b[43mdyn_args\u001b[49m\u001b[43m,\u001b[49m\u001b[43m \u001b[49m\u001b[38;5;241;43m*\u001b[39;49m\u001b[43margs\u001b[49m\u001b[43m,\u001b[49m\u001b[43m \u001b[49m\u001b[38;5;241;43m*\u001b[39;49m\u001b[38;5;241;43m*\u001b[39;49m\u001b[43mkwargs\u001b[49m\u001b[43m)\u001b[49m\n",
      "Cell \u001b[0;32mIn[13], line 34\u001b[0m, in \u001b[0;36minitialize_fireflies\u001b[0;34m(scene_size, max_fireflies, steps_arr)\u001b[0m\n\u001b[1;32m     32\u001b[0m \u001b[38;5;129m@gen\u001b[39m\n\u001b[1;32m     33\u001b[0m \u001b[38;5;28;01mdef\u001b[39;00m \u001b[38;5;21minitialize_fireflies\u001b[39m(scene_size, max_fireflies, steps_arr):\n\u001b[0;32m---> 34\u001b[0m     max_fireflies_arr \u001b[38;5;241m=\u001b[39m \u001b[43mjnp\u001b[49m\u001b[38;5;241;43m.\u001b[39;49m\u001b[43marange\u001b[49m\u001b[43m(\u001b[49m\u001b[38;5;241;43m1\u001b[39;49m\u001b[43m,\u001b[49m\u001b[43m \u001b[49m\u001b[43mmax_fireflies\u001b[49m\u001b[43m)\u001b[49m\n\u001b[1;32m     35\u001b[0m     n_fireflies \u001b[38;5;241m=\u001b[39m labcat(unicat(max_fireflies_arr), max_fireflies_arr) \u001b[38;5;241m@\u001b[39m \u001b[38;5;124m\"\u001b[39m\u001b[38;5;124mn_fireflies\u001b[39m\u001b[38;5;124m\"\u001b[39m\n\u001b[1;32m     36\u001b[0m     masked_fireflies \u001b[38;5;241m=\u001b[39m sample_firefly_init_masked_map(\n\u001b[1;32m     37\u001b[0m         max_fireflies_arr \u001b[38;5;241m<\u001b[39m n_fireflies,\n\u001b[1;32m     38\u001b[0m         scene_size\n\u001b[1;32m     39\u001b[0m     ) \u001b[38;5;241m@\u001b[39m \u001b[38;5;124m\"\u001b[39m\u001b[38;5;124mfireflies\u001b[39m\u001b[38;5;124m\"\u001b[39m \n",
      "File \u001b[0;32m~/.miniconda3/envs/genjax/lib/python3.12/site-packages/jax/_src/numpy/lax_numpy.py:4264\u001b[0m, in \u001b[0;36marange\u001b[0;34m(start, stop, step, dtype, device)\u001b[0m\n\u001b[1;32m   4194\u001b[0m \u001b[38;5;250m\u001b[39m\u001b[38;5;124;03m\"\"\"Create an array of evenly-spaced values.\u001b[39;00m\n\u001b[1;32m   4195\u001b[0m \n\u001b[1;32m   4196\u001b[0m \u001b[38;5;124;03mJAX implementation of :func:`numpy.arange`, implemented in terms of\u001b[39;00m\n\u001b[0;32m   (...)\u001b[0m\n\u001b[1;32m   4260\u001b[0m \u001b[38;5;124;03m  - :func:`jax.lax.iota`: directly generate integer sequences in XLA.\u001b[39;00m\n\u001b[1;32m   4261\u001b[0m \u001b[38;5;124;03m\"\"\"\u001b[39;00m\n\u001b[1;32m   4262\u001b[0m \u001b[38;5;66;03m# TODO(vfdev-5): optimize putting the array directly on the device specified\u001b[39;00m\n\u001b[1;32m   4263\u001b[0m \u001b[38;5;66;03m# instead of putting it on default device and then on the specific device\u001b[39;00m\n\u001b[0;32m-> 4264\u001b[0m output \u001b[38;5;241m=\u001b[39m \u001b[43m_arange\u001b[49m\u001b[43m(\u001b[49m\u001b[43mstart\u001b[49m\u001b[43m,\u001b[49m\u001b[43m \u001b[49m\u001b[43mstop\u001b[49m\u001b[38;5;241;43m=\u001b[39;49m\u001b[43mstop\u001b[49m\u001b[43m,\u001b[49m\u001b[43m \u001b[49m\u001b[43mstep\u001b[49m\u001b[38;5;241;43m=\u001b[39;49m\u001b[43mstep\u001b[49m\u001b[43m,\u001b[49m\u001b[43m \u001b[49m\u001b[43mdtype\u001b[49m\u001b[38;5;241;43m=\u001b[39;49m\u001b[43mdtype\u001b[49m\u001b[43m)\u001b[49m\n\u001b[1;32m   4265\u001b[0m \u001b[38;5;28;01mif\u001b[39;00m device \u001b[38;5;129;01mis\u001b[39;00m \u001b[38;5;129;01mnot\u001b[39;00m \u001b[38;5;28;01mNone\u001b[39;00m:\n\u001b[1;32m   4266\u001b[0m   \u001b[38;5;28;01mreturn\u001b[39;00m jax\u001b[38;5;241m.\u001b[39mdevice_put(output, device\u001b[38;5;241m=\u001b[39mdevice)\n",
      "File \u001b[0;32m~/.miniconda3/envs/genjax/lib/python3.12/site-packages/jax/_src/numpy/lax_numpy.py:4280\u001b[0m, in \u001b[0;36m_arange\u001b[0;34m(start, stop, step, dtype)\u001b[0m\n\u001b[1;32m   4278\u001b[0m     start \u001b[38;5;241m=\u001b[39m core\u001b[38;5;241m.\u001b[39mconcrete_or_error(\u001b[38;5;28;01mNone\u001b[39;00m, start, \u001b[38;5;124m\"\u001b[39m\u001b[38;5;124mIt arose in the jnp.arange argument \u001b[39m\u001b[38;5;124m'\u001b[39m\u001b[38;5;124mstart\u001b[39m\u001b[38;5;124m'\u001b[39m\u001b[38;5;124m\"\u001b[39m)\n\u001b[1;32m   4279\u001b[0m util\u001b[38;5;241m.\u001b[39mcheck_arraylike_or_none(\u001b[38;5;124m\"\u001b[39m\u001b[38;5;124marange\u001b[39m\u001b[38;5;124m\"\u001b[39m, \u001b[38;5;28;01mNone\u001b[39;00m, stop, step)\n\u001b[0;32m-> 4280\u001b[0m stop \u001b[38;5;241m=\u001b[39m \u001b[43mcore\u001b[49m\u001b[38;5;241;43m.\u001b[39;49m\u001b[43mconcrete_or_error\u001b[49m\u001b[43m(\u001b[49m\u001b[38;5;28;43;01mNone\u001b[39;49;00m\u001b[43m,\u001b[49m\u001b[43m \u001b[49m\u001b[43mstop\u001b[49m\u001b[43m,\u001b[49m\u001b[43m \u001b[49m\u001b[38;5;124;43m\"\u001b[39;49m\u001b[38;5;124;43mIt arose in the jnp.arange argument \u001b[39;49m\u001b[38;5;124;43m'\u001b[39;49m\u001b[38;5;124;43mstop\u001b[39;49m\u001b[38;5;124;43m'\u001b[39;49m\u001b[38;5;124;43m\"\u001b[39;49m\u001b[43m)\u001b[49m\n\u001b[1;32m   4281\u001b[0m step \u001b[38;5;241m=\u001b[39m core\u001b[38;5;241m.\u001b[39mconcrete_or_error(\u001b[38;5;28;01mNone\u001b[39;00m, step, \u001b[38;5;124m\"\u001b[39m\u001b[38;5;124mIt arose in the jnp.arange argument \u001b[39m\u001b[38;5;124m'\u001b[39m\u001b[38;5;124mstep\u001b[39m\u001b[38;5;124m'\u001b[39m\u001b[38;5;124m\"\u001b[39m)\n\u001b[1;32m   4282\u001b[0m start_name \u001b[38;5;241m=\u001b[39m \u001b[38;5;124m\"\u001b[39m\u001b[38;5;124mstop\u001b[39m\u001b[38;5;124m\"\u001b[39m \u001b[38;5;28;01mif\u001b[39;00m stop \u001b[38;5;129;01mis\u001b[39;00m \u001b[38;5;28;01mNone\u001b[39;00m \u001b[38;5;129;01mand\u001b[39;00m step \u001b[38;5;129;01mis\u001b[39;00m \u001b[38;5;28;01mNone\u001b[39;00m \u001b[38;5;28;01melse\u001b[39;00m \u001b[38;5;124m\"\u001b[39m\u001b[38;5;124mstart\u001b[39m\u001b[38;5;124m\"\u001b[39m\n",
      "File \u001b[0;32m~/.miniconda3/envs/genjax/lib/python3.12/site-packages/jax/_src/core.py:1545\u001b[0m, in \u001b[0;36mconcrete_or_error\u001b[0;34m(force, val, context)\u001b[0m\n\u001b[1;32m   1543\u001b[0m     \u001b[38;5;28;01mreturn\u001b[39;00m force(val\u001b[38;5;241m.\u001b[39maval\u001b[38;5;241m.\u001b[39mval)\n\u001b[1;32m   1544\u001b[0m   \u001b[38;5;28;01melse\u001b[39;00m:\n\u001b[0;32m-> 1545\u001b[0m     \u001b[38;5;28;01mraise\u001b[39;00m ConcretizationTypeError(val, context)\n\u001b[1;32m   1546\u001b[0m \u001b[38;5;28;01melse\u001b[39;00m:\n\u001b[1;32m   1547\u001b[0m   \u001b[38;5;28;01mreturn\u001b[39;00m force(val)\n",
      "\u001b[0;31mConcretizationTypeError\u001b[0m: Abstract tracer value encountered where concrete value is expected: traced array with shape int32[3]\nIt arose in the jnp.arange argument 'stop'\n\nSee https://jax.readthedocs.io/en/latest/errors.html#jax.errors.ConcretizationTypeError"
     ]
    }
   ],
   "source": [
    "key = jax.random.PRNGKey(423234)\n",
    "initialize_fireflies.simulate(key, (jnp.zeros(64), jnp.arange(1,4), None))"
   ]
  },
  {
   "cell_type": "code",
   "execution_count": null,
   "metadata": {},
   "outputs": [],
   "source": [
    "jnp.arange(1,4)"
   ]
  },
  {
   "cell_type": "code",
   "execution_count": null,
   "metadata": {},
   "outputs": [],
   "source": [
    "key = jax.random.PRNGKey(3746478)\n",
    "tr = yoni.mask().vmap().simulate(key, (jnp.array([False, False, False, False]),))"
   ]
  },
  {
   "cell_type": "code",
   "execution_count": null,
   "metadata": {},
   "outputs": [],
   "source": [
    "from genjax import Diff, NoChange, UpdateProblem\n",
    "from genjax import UpdateProblemBuilder as U\n",
    "\n",
    "\n",
    "Diff(3, NoChange)"
   ]
  }
 ],
 "metadata": {
  "kernelspec": {
   "display_name": "mentalphy",
   "language": "python",
   "name": "python3"
  },
  "language_info": {
   "codemirror_mode": {
    "name": "ipython",
    "version": 3
   },
   "file_extension": ".py",
   "mimetype": "text/x-python",
   "name": "python",
   "nbconvert_exporter": "python",
   "pygments_lexer": "ipython3",
   "version": "3.12.3"
  },
  "orig_nbformat": 4
 },
 "nbformat": 4,
 "nbformat_minor": 2
}
