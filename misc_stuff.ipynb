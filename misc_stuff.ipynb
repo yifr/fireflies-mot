{
 "cells": [
  {
   "cell_type": "code",
   "execution_count": 193,
   "metadata": {},
   "outputs": [],
   "source": [
    "import os\n",
    "import numpy as np\n",
    "import matplotlib.pyplot as plt"
   ]
  },
  {
   "cell_type": "code",
   "execution_count": 201,
   "metadata": {},
   "outputs": [],
   "source": [
    "def gaussian_glow(x0, y0, sigma_x, sigma_y, scene_size=128):\n",
    "    \"\"\"\n",
    "    Returns glow in region \n",
    "    \"\"\"\n",
    "    x = np.linspace(0, scene_size - 1, scene_size)\n",
    "    y = np.linspace(0, scene_size - 1, scene_size)\n",
    "    X, Y = np.meshgrid(x, y)\n",
    "    Z = np.exp(-((X - x0)**2 / (2 * sigma_x**2) + (Y - y0)**2 / (2 * sigma_y**2)))\n",
    "    return X.astype(np.int64), Y.astype(np.int64), Z\n"
   ]
  },
  {
   "cell_type": "code",
   "execution_count": 211,
   "metadata": {},
   "outputs": [
    {
     "data": {
      "text/plain": [
       "<matplotlib.image.AxesImage at 0x138e55d00>"
      ]
     },
     "execution_count": 211,
     "metadata": {},
     "output_type": "execute_result"
    },
    {
     "data": {
      "image/png": "[encoded data removed]",
      "text/plain": [
       "<Figure size 640x480 with 1 Axes>"
      ]
     },
     "metadata": {},
     "output_type": "display_data"
    }
   ],
   "source": [
    "scene_size = 128\n",
    "scene = np.zeros((scene_size, scene_size, 4))\n",
    "n_fireflies = np.random.randint(1, 4)\n",
    "firefly_locs = np.random.randint(0, scene_size, (n_fireflies, 2))\n",
    "firefly_sizes = np.random.randint(2, 5, (n_fireflies, 2))\n",
    "colors = np.random.rand(n_fireflies, 3)\n",
    "\n",
    "glows = [gaussian_glow(*loc, *size) for loc, size in zip(firefly_locs, firefly_sizes)]\n",
    "\n",
    "for i, glow in enumerate(glows):\n",
    "    X, Y, Z = glow\n",
    "    scene[X, Y, -1] += Z\n",
    "    scene[X, Y, :3] = colors[i]\n",
    "\n",
    "scene = np.clip(scene, 0, 1)\n",
    "ax = plt.subplot()\n",
    "ax.set_facecolor(\"black\")\n",
    "ax.imshow(scene, cmap='hot', interpolation='nearest')"
   ]
  },
  {
   "cell_type": "code",
   "execution_count": null,
   "metadata": {},
   "outputs": [],
   "source": []
  },
  {
   "cell_type": "code",
   "execution_count": null,
   "metadata": {},
   "outputs": [],
   "source": []
  }
 ],
 "metadata": {
  "kernelspec": {
   "display_name": "base",
   "language": "python",
   "name": "python3"
  },
  "language_info": {
   "codemirror_mode": {
    "name": "ipython",
    "version": 3
   },
   "file_extension": ".py",
   "mimetype": "text/x-python",
   "name": "python",
   "nbconvert_exporter": "python",
   "pygments_lexer": "ipython3",
   "version": "3.9.18"
  }
 },
 "nbformat": 4,
 "nbformat_minor": 2
}
